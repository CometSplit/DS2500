{
  "nbformat": 4,
  "nbformat_minor": 0,
  "metadata": {
    "anaconda-cloud": {},
    "kernelspec": {
      "display_name": "Python 3",
      "language": "python",
      "name": "python3"
    },
    "language_info": {
      "codemirror_mode": {
        "name": "ipython",
        "version": 3
      },
      "file_extension": ".py",
      "mimetype": "text/x-python",
      "name": "python",
      "nbconvert_exporter": "python",
      "pygments_lexer": "ipython3",
      "version": "3.7.2"
    },
    "nbpresent": {
      "slides": {
        "19a6495f-8346-4b23-a98a-c7115941e8f0": {
          "id": "19a6495f-8346-4b23-a98a-c7115941e8f0",
          "prev": null,
          "regions": {
            "d6523b36-7204-4001-8a6c-37c431b18d26": {
              "attrs": {
                "height": 1,
                "width": 1,
                "x": 0,
                "y": 0
              },
              "id": "d6523b36-7204-4001-8a6c-37c431b18d26"
            }
          }
        }
      },
      "themes": {}
    },
    "colab": {
      "provenance": [],
      "include_colab_link": true
    }
  },
  "cells": [
    {
      "cell_type": "markdown",
      "metadata": {
        "id": "view-in-github",
        "colab_type": "text"
      },
      "source": [
        "<a href=\"https://colab.research.google.com/github/CometSplit/DS2500/blob/main/listsDictionariesSets.ipynb\" target=\"_parent\"><img src=\"https://colab.research.google.com/assets/colab-badge.svg\" alt=\"Open In Colab\"/></a>"
      ]
    },
    {
      "cell_type": "markdown",
      "metadata": {
        "nbpresent": {
          "id": "50a40f10-f4b6-4dd3-b7aa-c63ed3ca3244"
        },
        "id": "UNgZMI6g7xl0"
      },
      "source": [
        "DS 2500: Notebook 3\n",
        "\n",
        "Basic Python\n",
        "\n",
        "Prof. Marina Kogan\n",
        "\n",
        "based in part on materials by Prof. Alex Lex\n",
        "\n",
        "In this lecture we will introduce more data structures: lists, sets, and dictionaries."
      ]
    },
    {
      "cell_type": "markdown",
      "metadata": {
        "nbpresent": {
          "id": "30fae315-d72a-442a-a7b5-b0a37b744dca"
        },
        "id": "V4dQBdSN4XGM"
      },
      "source": [
        "## 1. Lists"
      ]
    },
    {
      "cell_type": "markdown",
      "metadata": {
        "id": "WtVtAcOs4XGN"
      },
      "source": [
        "Now we'll take a look at a compound data type: lists.\n",
        "\n",
        "**A list is a collection of items.** Another word commonly used for a list in other programming languages is an array (though there are differences between lists and arrays in many languages).\n",
        "\n",
        "**Lists are created with square brackets `[]` and can be accessed via an index:**"
      ]
    },
    {
      "cell_type": "code",
      "metadata": {
        "nbpresent": {
          "id": "2cccc38c-08c9-47ec-8476-8198b5aef967"
        },
        "id": "7jeZV5uo4XGN",
        "outputId": "36959ff3-2b3f-4c14-a409-98f3ef98755f",
        "colab": {
          "base_uri": "https://localhost:8080/"
        }
      },
      "source": [
        "beatles = [\"Paul\", \"John\", \"George\", \"Ringo\"]\n",
        "# printing the whole array\n",
        "print(beatles)\n",
        "# printing the first element of that array, at index 0\n",
        "print(beatles[0])\n",
        "# third element, at index 2\n",
        "print(beatles[2])\n",
        "# access the last element\n",
        "print(beatles[-1])\n",
        "# access the second-to-last element\n",
        "print(beatles[-2])"
      ],
      "execution_count": null,
      "outputs": [
        {
          "output_type": "stream",
          "name": "stdout",
          "text": [
            "['Paul', 'John', 'George', 'Ringo']\n",
            "Paul\n",
            "George\n",
            "Ringo\n",
            "George\n"
          ]
        }
      ]
    },
    {
      "cell_type": "markdown",
      "metadata": {
        "nbpresent": {
          "id": "b9d8ffd3-fec8-4b7c-8301-13b27ffad614"
        },
        "id": "vT0YCv7f4XGO"
      },
      "source": [
        "If we try to address an index outside of the range of an array, we get an error:"
      ]
    },
    {
      "cell_type": "code",
      "metadata": {
        "nbpresent": {
          "id": "13e66cfb-b9c1-49f9-a409-4405415cfeea"
        },
        "id": "QFww-OtY4XGP",
        "outputId": "5a5a1b71-a41d-47b3-b222-43d9e241157d",
        "colab": {
          "base_uri": "https://localhost:8080/",
          "height": 176
        }
      },
      "source": [
        "beatles[4]"
      ],
      "execution_count": null,
      "outputs": [
        {
          "output_type": "error",
          "ename": "IndexError",
          "evalue": "list index out of range",
          "traceback": [
            "\u001b[0;31m---------------------------------------------------------------------------\u001b[0m",
            "\u001b[0;31mIndexError\u001b[0m                                Traceback (most recent call last)",
            "\u001b[0;32m<ipython-input-2-ea23b43f225d>\u001b[0m in \u001b[0;36m<cell line: 1>\u001b[0;34m()\u001b[0m\n\u001b[0;32m----> 1\u001b[0;31m \u001b[0mbeatles\u001b[0m\u001b[0;34m[\u001b[0m\u001b[0;36m4\u001b[0m\u001b[0;34m]\u001b[0m\u001b[0;34m\u001b[0m\u001b[0;34m\u001b[0m\u001b[0m\n\u001b[0m",
            "\u001b[0;31mIndexError\u001b[0m: list index out of range"
          ]
        }
      ]
    },
    {
      "cell_type": "markdown",
      "metadata": {
        "id": "HnVOuRjp4XGS"
      },
      "source": [
        "Sometimes, it makes sense to pre-initialize an array of a certain size:"
      ]
    },
    {
      "cell_type": "code",
      "metadata": {
        "id": "crhHZC8F4XGT",
        "outputId": "6be94e3a-ae11-4cdb-a168-93a6787dde21",
        "colab": {
          "base_uri": "https://localhost:8080/"
        }
      },
      "source": [
        "[0] * 10"
      ],
      "execution_count": null,
      "outputs": [
        {
          "output_type": "execute_result",
          "data": {
            "text/plain": [
              "[0, 0, 0, 0, 0, 0, 0, 0, 0, 0]"
            ]
          },
          "metadata": {},
          "execution_count": 3
        }
      ]
    },
    {
      "cell_type": "markdown",
      "metadata": {
        "id": "027XkPT04XGU"
      },
      "source": [
        "There is also a handy shortcut for quickly initializing lists. This uses the [range()](https://docs.python.org/3/library/functions.html#func-range) function."
      ]
    },
    {
      "cell_type": "markdown",
      "metadata": {
        "nbpresent": {
          "id": "b095b5f4-64f4-4c92-b5ad-3430139e5829"
        },
        "id": "yd6Fn4mi4XGV"
      },
      "source": [
        "We can also create **slices of an array with the slice operator `:`**\n",
        "\n",
        "```python\n",
        "a[start:end] # items start through end-1\n",
        "a[start:]    # items start through the rest of the array\n",
        "a[:end]      # items from the beginning through end-1\n",
        "a[:]         # a copy of the whole array\n",
        "```"
      ]
    },
    {
      "cell_type": "markdown",
      "metadata": {
        "id": "l5SRKmPX4XGV"
      },
      "source": [
        "There is also the step value, which can be used with any of the above:\n",
        "\n",
        "```python\n",
        "a[start:end:step] # start through not past end, by step\n",
        "```"
      ]
    },
    {
      "cell_type": "markdown",
      "metadata": {
        "id": "yvqyU50-4XGW"
      },
      "source": [
        "See [this post](http://stackoverflow.com/questions/509211/explain-pythons-slice-notation) for a good explanation on slicing."
      ]
    },
    {
      "cell_type": "code",
      "metadata": {
        "nbpresent": {
          "id": "6f27c412-dc29-4506-afa2-81e52922d8f2"
        },
        "id": "V99Wtlgd4XGW",
        "outputId": "3a1b75f2-83d6-48c0-a1af-002b1d8047d3",
        "colab": {
          "base_uri": "https://localhost:8080/"
        }
      },
      "source": [
        "# Get the slice from 0 (included) to 2 (excluded)\n",
        "beatles[:2] # this can also be written as [0:2]"
      ],
      "execution_count": null,
      "outputs": [
        {
          "output_type": "execute_result",
          "data": {
            "text/plain": [
              "['Paul', 'John']"
            ]
          },
          "metadata": {},
          "execution_count": 4
        }
      ]
    },
    {
      "cell_type": "code",
      "metadata": {
        "id": "7-xcAHax4XGZ",
        "outputId": "e5182fae-3ffa-46e0-ca1f-dc33df118ba1",
        "colab": {
          "base_uri": "https://localhost:8080/"
        }
      },
      "source": [
        "# Sclice from index 2 (3rd element) to end\n",
        "beatles[2:]"
      ],
      "execution_count": null,
      "outputs": [
        {
          "output_type": "execute_result",
          "data": {
            "text/plain": [
              "['George', 'Ringo']"
            ]
          },
          "metadata": {},
          "execution_count": 5
        }
      ]
    },
    {
      "cell_type": "code",
      "metadata": {
        "id": "Wh0pirYp4XGb",
        "outputId": "8a676605-8bb1-468b-9401-00f75640930d",
        "colab": {
          "base_uri": "https://localhost:8080/"
        }
      },
      "source": [
        "# A copy of the array\n",
        "beatles[:]"
      ],
      "execution_count": null,
      "outputs": [
        {
          "output_type": "execute_result",
          "data": {
            "text/plain": [
              "['Paul', 'John', 'George', 'Ringo']"
            ]
          },
          "metadata": {},
          "execution_count": 6
        }
      ]
    },
    {
      "cell_type": "markdown",
      "metadata": {
        "nbpresent": {
          "id": "c7b1e99e-3ba0-4aa2-8d39-eea68db2780f"
        },
        "id": "d6boNuaV4XGd"
      },
      "source": [
        "The slice operations return a new array, the original array is untouched:"
      ]
    },
    {
      "cell_type": "code",
      "metadata": {
        "nbpresent": {
          "id": "a5368caf-1a8b-4f2e-9dd6-d9e57dc85b41"
        },
        "id": "zA4WZWTZ4XGe",
        "outputId": "e9e4d5ee-25ac-44a1-ced1-4b772c2b4bbe",
        "colab": {
          "base_uri": "https://localhost:8080/"
        }
      },
      "source": [
        "beatles"
      ],
      "execution_count": null,
      "outputs": [
        {
          "output_type": "execute_result",
          "data": {
            "text/plain": [
              "['Paul', 'John', 'George', 'Ringo']"
            ]
          },
          "metadata": {},
          "execution_count": 7
        }
      ]
    },
    {
      "cell_type": "markdown",
      "metadata": {
        "nbpresent": {
          "id": "133128f1-6346-44cb-a6bf-8651c4d39601"
        },
        "id": "uYyC4vLJ4XGg"
      },
      "source": [
        "Slicing outside of a defined range returns an empty list:"
      ]
    },
    {
      "cell_type": "code",
      "metadata": {
        "nbpresent": {
          "id": "e47eaccf-7e3a-4c48-a5c8-ead49f46d141"
        },
        "id": "339Z6Cu94XGh",
        "outputId": "4982bd01-68c4-491a-bfc9-2fd6ceec2c35",
        "colab": {
          "base_uri": "https://localhost:8080/"
        }
      },
      "source": [
        "beatles[4:9]"
      ],
      "execution_count": null,
      "outputs": [
        {
          "output_type": "execute_result",
          "data": {
            "text/plain": [
              "[]"
            ]
          },
          "metadata": {},
          "execution_count": 8
        }
      ]
    },
    {
      "cell_type": "markdown",
      "metadata": {
        "nbpresent": {
          "id": "903dfcba-5ca9-43df-81a4-703bbdaec1e6"
        },
        "id": "cRLGrduI4XGi"
      },
      "source": [
        "Strings can be treated similar to arrays with respect to indexing and slicing:"
      ]
    },
    {
      "cell_type": "code",
      "metadata": {
        "nbpresent": {
          "id": "3797edd3-b4a8-430e-be10-ebc8712b5ef3"
        },
        "id": "coYnhg234XGi",
        "outputId": "8060462a-22f3-4a34-fe5a-4e0baaadb328",
        "colab": {
          "base_uri": "https://localhost:8080/",
          "height": 35
        }
      },
      "source": [
        "paul = \"Paul McCartney\"\n",
        "paul[0:4]"
      ],
      "execution_count": null,
      "outputs": [
        {
          "output_type": "execute_result",
          "data": {
            "text/plain": [
              "'Paul'"
            ],
            "application/vnd.google.colaboratory.intrinsic+json": {
              "type": "string"
            }
          },
          "metadata": {},
          "execution_count": 9
        }
      ]
    },
    {
      "cell_type": "markdown",
      "metadata": {
        "nbpresent": {
          "id": "7de0a434-d83b-4557-aa74-d81ee4b7ecbb"
        },
        "id": "6LeFas2e4XGk"
      },
      "source": [
        "Lists (in contrast to strings) are mutable.\n",
        "\n",
        "That means **we can change the elements that are contained in a list**:"
      ]
    },
    {
      "cell_type": "code",
      "metadata": {
        "nbpresent": {
          "id": "7d7aab61-0e11-4084-a70a-537a017c15fa"
        },
        "id": "RqATmn9m4XGl",
        "outputId": "044ee140-2cd3-4401-a702-d9daa9e365d5",
        "colab": {
          "base_uri": "https://localhost:8080/"
        }
      },
      "source": [
        "beatles[1] = \"JohnYoko\"\n",
        "beatles"
      ],
      "execution_count": null,
      "outputs": [
        {
          "output_type": "execute_result",
          "data": {
            "text/plain": [
              "['Paul', 'JohnYoko', 'George', 'Ringo']"
            ]
          },
          "metadata": {},
          "execution_count": 10
        }
      ]
    },
    {
      "cell_type": "markdown",
      "metadata": {
        "id": "8qgQkvNu4XGm"
      },
      "source": [
        "This does not work with strings, strings are immutable:"
      ]
    },
    {
      "cell_type": "code",
      "metadata": {
        "nbpresent": {
          "id": "396b6da4-3fd3-4ef4-b70a-cd22b025e53a"
        },
        "id": "OhurSy0U4XGn",
        "outputId": "ce39d7c4-a8f3-4a8b-bba2-0b147767d46d",
        "colab": {
          "base_uri": "https://localhost:8080/",
          "height": 193
        }
      },
      "source": [
        "# This will return an error\n",
        "paul[1] = \"o\""
      ],
      "execution_count": null,
      "outputs": [
        {
          "output_type": "error",
          "ename": "TypeError",
          "evalue": "'str' object does not support item assignment",
          "traceback": [
            "\u001b[0;31m---------------------------------------------------------------------------\u001b[0m",
            "\u001b[0;31mTypeError\u001b[0m                                 Traceback (most recent call last)",
            "\u001b[0;32m<ipython-input-11-109482330ddf>\u001b[0m in \u001b[0;36m<cell line: 2>\u001b[0;34m()\u001b[0m\n\u001b[1;32m      1\u001b[0m \u001b[0;31m# This will return an error\u001b[0m\u001b[0;34m\u001b[0m\u001b[0;34m\u001b[0m\u001b[0m\n\u001b[0;32m----> 2\u001b[0;31m \u001b[0mpaul\u001b[0m\u001b[0;34m[\u001b[0m\u001b[0;36m1\u001b[0m\u001b[0;34m]\u001b[0m \u001b[0;34m=\u001b[0m \u001b[0;34m\"o\"\u001b[0m\u001b[0;34m\u001b[0m\u001b[0;34m\u001b[0m\u001b[0m\n\u001b[0m",
            "\u001b[0;31mTypeError\u001b[0m: 'str' object does not support item assignment"
          ]
        }
      ]
    },
    {
      "cell_type": "markdown",
      "metadata": {
        "nbpresent": {
          "id": "31e45925-5bf1-42de-87ea-280dbb365665"
        },
        "id": "YSLN7uRb4XGp"
      },
      "source": [
        "Lists can also be **extended with the `append()` function**:"
      ]
    },
    {
      "cell_type": "code",
      "metadata": {
        "nbpresent": {
          "id": "e2a6752b-e74d-48b4-b682-4ea811cef8a4"
        },
        "id": "IpZz60Mh4XGs",
        "outputId": "2e645d69-e1d0-4f41-add8-24e3445739d9",
        "colab": {
          "base_uri": "https://localhost:8080/"
        }
      },
      "source": [
        "beatles.append(\"George Martin\")\n",
        "beatles"
      ],
      "execution_count": null,
      "outputs": [
        {
          "output_type": "execute_result",
          "data": {
            "text/plain": [
              "['Paul', 'JohnYoko', 'George', 'Ringo', 'George Martin']"
            ]
          },
          "metadata": {},
          "execution_count": 12
        }
      ]
    },
    {
      "cell_type": "markdown",
      "metadata": {
        "nbpresent": {
          "id": "cb8a4e24-90ef-4b0f-86de-b81bb5309d52"
        },
        "id": "U0BbL_8f4XGu"
      },
      "source": [
        "Lists can be **concatenated**:"
      ]
    },
    {
      "cell_type": "code",
      "metadata": {
        "nbpresent": {
          "id": "a4109ac9-938f-4db7-b7bb-bb899ad672ed"
        },
        "id": "AcgZ0cxb4XGv",
        "outputId": "9b8d10f7-7d82-43cc-a468-8d45602477bc",
        "colab": {
          "base_uri": "https://localhost:8080/"
        }
      },
      "source": [
        "zeppelin = [\"Jimmy\", \"Robert\", \"John\", \"John\"]\n",
        "supergroup = beatles + zeppelin\n",
        "supergroup"
      ],
      "execution_count": null,
      "outputs": [
        {
          "output_type": "execute_result",
          "data": {
            "text/plain": [
              "['Paul',\n",
              " 'JohnYoko',\n",
              " 'George',\n",
              " 'Ringo',\n",
              " 'George Martin',\n",
              " 'Jimmy',\n",
              " 'Robert',\n",
              " 'John',\n",
              " 'John']"
            ]
          },
          "metadata": {},
          "execution_count": 13
        }
      ]
    },
    {
      "cell_type": "markdown",
      "metadata": {
        "nbpresent": {
          "id": "3927d6f8-3df3-4773-b08d-2b77acfffcd8"
        },
        "id": "5n3MXhV04XGx"
      },
      "source": [
        "We can **check the length** of a list using the built-in [`len()`](https://docs.python.org/3.3/library/functions.html#len) function:"
      ]
    },
    {
      "cell_type": "code",
      "metadata": {
        "nbpresent": {
          "id": "bc27d3eb-1a47-465d-b1f4-930a833608de"
        },
        "id": "ORzdAGR-4XGy",
        "outputId": "1797330a-d399-414a-a89f-cee896b4e688",
        "colab": {
          "base_uri": "https://localhost:8080/"
        }
      },
      "source": [
        "len(supergroup)"
      ],
      "execution_count": null,
      "outputs": [
        {
          "output_type": "execute_result",
          "data": {
            "text/plain": [
              "9"
            ]
          },
          "metadata": {},
          "execution_count": 14
        }
      ]
    },
    {
      "cell_type": "markdown",
      "metadata": {
        "nbpresent": {
          "id": "128555b4-e524-4d04-a9a8-2ceee3daffaf"
        },
        "id": "NvniNuqi4XG0"
      },
      "source": [
        "Lists can also be **nested**:"
      ]
    },
    {
      "cell_type": "code",
      "metadata": {
        "nbpresent": {
          "id": "ab1b9e85-6252-4ee4-aa90-10cb955ab083"
        },
        "id": "Q5YxaWGm4XG0",
        "outputId": "1b0f7ef5-1dfb-4e05-9ddb-7c1d54eea134",
        "colab": {
          "base_uri": "https://localhost:8080/"
        }
      },
      "source": [
        "bands = [beatles, zeppelin]\n",
        "bands"
      ],
      "execution_count": null,
      "outputs": [
        {
          "output_type": "execute_result",
          "data": {
            "text/plain": [
              "[['Paul', 'JohnYoko', 'George', 'Ringo', 'George Martin'],\n",
              " ['Jimmy', 'Robert', 'John', 'John']]"
            ]
          },
          "metadata": {},
          "execution_count": 15
        }
      ]
    },
    {
      "cell_type": "markdown",
      "metadata": {
        "nbpresent": {
          "id": "7e3dacfb-6d03-4285-b0f8-55851881244c"
        },
        "id": "aDHvAzoz4XG3"
      },
      "source": [
        "In fact, lists can be of hybrid data types, which, however, is something that you typically shouldn't do:"
      ]
    },
    {
      "cell_type": "code",
      "metadata": {
        "nbpresent": {
          "id": "a37659c5-0da2-4ef0-ba7d-a044ab813be6"
        },
        "id": "CWplEnxo4XG4",
        "outputId": "44a3c273-744d-4cca-b48b-75c948fb4ec5",
        "colab": {
          "base_uri": "https://localhost:8080/"
        }
      },
      "source": [
        "bad_bands = bands + [1, 0.3, 17, \"This is bad\"]\n",
        "# this list contains lists, integers, floats and strings\n",
        "bad_bands"
      ],
      "execution_count": null,
      "outputs": [
        {
          "output_type": "execute_result",
          "data": {
            "text/plain": [
              "[['Paul', 'JohnYoko', 'George', 'Ringo', 'George Martin'],\n",
              " ['Jimmy', 'Robert', 'John', 'John'],\n",
              " 1,\n",
              " 0.3,\n",
              " 17,\n",
              " 'This is bad']"
            ]
          },
          "metadata": {},
          "execution_count": 16
        }
      ]
    },
    {
      "cell_type": "markdown",
      "metadata": {
        "nbpresent": {
          "id": "949b3caa-ec11-42f8-bd14-510c2a032152"
        },
        "id": "ALcXj1hF4XG-"
      },
      "source": [
        "\n",
        "\n",
        "### **Exercise 1: Lists**"
      ]
    },
    {
      "cell_type": "markdown",
      "metadata": {
        "id": "f7seYb-64XG-"
      },
      "source": [
        "* Create a list for the Rolling Stones: Mick, Keith, Charlie, Ronnie.\n",
        "* Create a slice of that list that contains only members of the original lineup (Mick, Keith, Charlie).\n",
        "* Add the stones lists to the the bands list."
      ]
    },
    {
      "cell_type": "code",
      "source": [
        "\n"
      ],
      "metadata": {
        "id": "LexX0C-joS9X"
      },
      "execution_count": null,
      "outputs": []
    },
    {
      "cell_type": "markdown",
      "metadata": {
        "id": "YILueRPt7xmr"
      },
      "source": [
        "## 2. Tuples\n",
        "\n",
        "[Tuples](https://docs.python.org/3/tutorial/datastructures.html#tuples-and-sequences) are a list-like data structure that are, in contrast to lists, **immutable**.\n",
        "\n",
        "The purpose of tuples is to store objects of different types. Remember that Lists should only contain homogeneous data; Tuples are designed for the heterogeneous case.\n",
        "\n",
        "Also, Tuples have practical implications for performance and HashTables."
      ]
    },
    {
      "cell_type": "code",
      "metadata": {
        "id": "dFSwYZ5u7xms",
        "outputId": "ae514208-2155-4639-9a2b-dfbe9ae61cd4",
        "colab": {
          "base_uri": "https://localhost:8080/"
        }
      },
      "source": [
        "person = \"Dave\", 2001, \"Computer Science\"\n",
        "person"
      ],
      "execution_count": null,
      "outputs": [
        {
          "output_type": "execute_result",
          "data": {
            "text/plain": [
              "('Dave', 2001, 'Computer Science')"
            ]
          },
          "metadata": {},
          "execution_count": 18
        }
      ]
    },
    {
      "cell_type": "markdown",
      "metadata": {
        "id": "GJXbKrl47xmu"
      },
      "source": [
        "Initialization with brackets is prefered, since it's more explicit:"
      ]
    },
    {
      "cell_type": "code",
      "metadata": {
        "id": "dGt7Ahlp7xmu",
        "outputId": "22df6b50-9c3e-4cf3-fa6b-ab0be679cb11",
        "colab": {
          "base_uri": "https://localhost:8080/"
        }
      },
      "source": [
        "person = (\"Dave\", 2001, \"Australia\")\n",
        "person"
      ],
      "execution_count": null,
      "outputs": [
        {
          "output_type": "execute_result",
          "data": {
            "text/plain": [
              "('Dave', 2001, 'Australia')"
            ]
          },
          "metadata": {},
          "execution_count": 19
        }
      ]
    },
    {
      "cell_type": "markdown",
      "metadata": {
        "id": "PdUwaqAf7xmw"
      },
      "source": [
        "We can access them just like arrays:"
      ]
    },
    {
      "cell_type": "code",
      "metadata": {
        "id": "vgovRFe67xmy",
        "outputId": "d3739688-9638-4bc1-ba79-31152095ef2c",
        "colab": {
          "base_uri": "https://localhost:8080/"
        }
      },
      "source": [
        "person[1]"
      ],
      "execution_count": null,
      "outputs": [
        {
          "output_type": "execute_result",
          "data": {
            "text/plain": [
              "2001"
            ]
          },
          "metadata": {},
          "execution_count": 20
        }
      ]
    },
    {
      "cell_type": "markdown",
      "metadata": {
        "id": "t9rtecZV7xm3"
      },
      "source": [
        "We cannot, however change values. This throws a **TypeError**."
      ]
    },
    {
      "cell_type": "code",
      "metadata": {
        "id": "gToHakeb7xm4",
        "outputId": "416177ab-dea1-4e32-fee2-2cab84d62ad4",
        "colab": {
          "base_uri": "https://localhost:8080/",
          "height": 193
        }
      },
      "source": [
        "# throws TypeError\n",
        "person[1] = 1985"
      ],
      "execution_count": null,
      "outputs": [
        {
          "output_type": "error",
          "ename": "TypeError",
          "evalue": "'tuple' object does not support item assignment",
          "traceback": [
            "\u001b[0;31m---------------------------------------------------------------------------\u001b[0m",
            "\u001b[0;31mTypeError\u001b[0m                                 Traceback (most recent call last)",
            "\u001b[0;32m<ipython-input-21-443e0becffb3>\u001b[0m in \u001b[0;36m<cell line: 2>\u001b[0;34m()\u001b[0m\n\u001b[1;32m      1\u001b[0m \u001b[0;31m# throws TypeError\u001b[0m\u001b[0;34m\u001b[0m\u001b[0;34m\u001b[0m\u001b[0m\n\u001b[0;32m----> 2\u001b[0;31m \u001b[0mperson\u001b[0m\u001b[0;34m[\u001b[0m\u001b[0;36m1\u001b[0m\u001b[0;34m]\u001b[0m \u001b[0;34m=\u001b[0m \u001b[0;36m1985\u001b[0m\u001b[0;34m\u001b[0m\u001b[0;34m\u001b[0m\u001b[0m\n\u001b[0m",
            "\u001b[0;31mTypeError\u001b[0m: 'tuple' object does not support item assignment"
          ]
        }
      ]
    },
    {
      "cell_type": "markdown",
      "metadata": {
        "id": "TCdLllLo7xm5"
      },
      "source": [
        "Arbitrary objects can be part of a tuple:"
      ]
    },
    {
      "cell_type": "code",
      "metadata": {
        "id": "4nUjXhT57xm6",
        "outputId": "1d9a2d9c-7595-4cbb-becb-d912bf5020e2",
        "colab": {
          "base_uri": "https://localhost:8080/"
        }
      },
      "source": [
        "train_schedule = (\"Train 1\", [9,11])\n",
        "# this works because we're modifying the mutable array within the immuatable tuple.\n",
        "train_schedule[1][0] = 15\n",
        "train_schedule"
      ],
      "execution_count": null,
      "outputs": [
        {
          "output_type": "execute_result",
          "data": {
            "text/plain": [
              "('Train 1', [15, 11])"
            ]
          },
          "metadata": {},
          "execution_count": 22
        }
      ]
    },
    {
      "cell_type": "markdown",
      "metadata": {
        "id": "glTTenV07xm8"
      },
      "source": [
        "Of course, that includes tuples:"
      ]
    },
    {
      "cell_type": "code",
      "metadata": {
        "id": "WvDNPbjR7xm8",
        "outputId": "a1d6cb90-783a-4c0c-8c01-20e7053edcc2",
        "colab": {
          "base_uri": "https://localhost:8080/",
          "height": 228
        }
      },
      "source": [
        "train_schedule = (\"Train 1\", (9,11))\n",
        "# this doesn't work\n",
        "train_schedule[1][0] = 15\n",
        "train_schedule"
      ],
      "execution_count": null,
      "outputs": [
        {
          "output_type": "error",
          "ename": "TypeError",
          "evalue": "'tuple' object does not support item assignment",
          "traceback": [
            "\u001b[0;31m---------------------------------------------------------------------------\u001b[0m",
            "\u001b[0;31mTypeError\u001b[0m                                 Traceback (most recent call last)",
            "\u001b[0;32m<ipython-input-23-0bd825d5af6a>\u001b[0m in \u001b[0;36m<cell line: 3>\u001b[0;34m()\u001b[0m\n\u001b[1;32m      1\u001b[0m \u001b[0mtrain_schedule\u001b[0m \u001b[0;34m=\u001b[0m \u001b[0;34m(\u001b[0m\u001b[0;34m\"Train 1\"\u001b[0m\u001b[0;34m,\u001b[0m \u001b[0;34m(\u001b[0m\u001b[0;36m9\u001b[0m\u001b[0;34m,\u001b[0m\u001b[0;36m11\u001b[0m\u001b[0;34m)\u001b[0m\u001b[0;34m)\u001b[0m\u001b[0;34m\u001b[0m\u001b[0;34m\u001b[0m\u001b[0m\n\u001b[1;32m      2\u001b[0m \u001b[0;31m# this doesn't work\u001b[0m\u001b[0;34m\u001b[0m\u001b[0;34m\u001b[0m\u001b[0m\n\u001b[0;32m----> 3\u001b[0;31m \u001b[0mtrain_schedule\u001b[0m\u001b[0;34m[\u001b[0m\u001b[0;36m1\u001b[0m\u001b[0;34m]\u001b[0m\u001b[0;34m[\u001b[0m\u001b[0;36m0\u001b[0m\u001b[0;34m]\u001b[0m \u001b[0;34m=\u001b[0m \u001b[0;36m15\u001b[0m\u001b[0;34m\u001b[0m\u001b[0;34m\u001b[0m\u001b[0m\n\u001b[0m\u001b[1;32m      4\u001b[0m \u001b[0mtrain_schedule\u001b[0m\u001b[0;34m\u001b[0m\u001b[0;34m\u001b[0m\u001b[0m\n",
            "\u001b[0;31mTypeError\u001b[0m: 'tuple' object does not support item assignment"
          ]
        }
      ]
    },
    {
      "cell_type": "markdown",
      "metadata": {
        "id": "wYuf9SpV7xnN"
      },
      "source": [
        "## 3. Sets"
      ]
    },
    {
      "cell_type": "markdown",
      "metadata": {
        "id": "AKEJdr887xnP"
      },
      "source": [
        "A [set](https://docs.python.org/3/tutorial/datastructures.html#sets) is a mutable collection, similar to a list, however, it is\n",
        " * **not ordered**, and\n",
        " * **cannot contain the same element twice**\n",
        "\n",
        "Here is an example:"
      ]
    },
    {
      "cell_type": "code",
      "metadata": {
        "id": "KDNgJgTS7xnP",
        "outputId": "5bbae310-a9a0-43ac-83ac-2e11cf34e0e8",
        "colab": {
          "base_uri": "https://localhost:8080/"
        }
      },
      "source": [
        "# Initialize a set with {}\n",
        "beatles = {\"John\", \"Paul\", \"Ringo\", \"George\"}\n",
        "beatles"
      ],
      "execution_count": null,
      "outputs": [
        {
          "output_type": "execute_result",
          "data": {
            "text/plain": [
              "{'George', 'John', 'Paul', 'Ringo'}"
            ]
          },
          "metadata": {},
          "execution_count": 24
        }
      ]
    },
    {
      "cell_type": "code",
      "metadata": {
        "id": "J6CoG9Rf7xnS",
        "outputId": "2ae1c8f7-0057-47d0-9d31-6613d5b5ada1",
        "colab": {
          "base_uri": "https://localhost:8080/"
        }
      },
      "source": [
        "# Initialize the set with an array\n",
        "usernames = set([\"Jimmy\", \"Robert\", \"John\", \"John\"])\n",
        "usernames"
      ],
      "execution_count": null,
      "outputs": [
        {
          "output_type": "execute_result",
          "data": {
            "text/plain": [
              "{'Jimmy', 'John', 'Robert'}"
            ]
          },
          "metadata": {},
          "execution_count": 25
        }
      ]
    },
    {
      "cell_type": "markdown",
      "metadata": {
        "id": "BF7su-7j7xnV"
      },
      "source": [
        "We've initialized the set `usernames` with an array of names. We have chosen a set, because we don't want to have duplicate user names. However, **in the second example, the array included a duplicate — John was specified twice**. We can see, however, that **John was added to the set only once**.\n",
        "\n",
        "Also note the order of the elements in the first set:\n",
        "\n",
        "Initialized with:\n",
        "```python\n",
        "{\"John\", \"Paul\", \"Ringo\", \"George\"}\n",
        "```\n",
        "But the output isn't ordered:\n",
        "```python\n",
        "{\"John\", \"Paul\", \"Ringo\", \"George\"}\n",
        "```\n",
        "\n",
        "Sets are great for various tasks. For example, they can be used to remove duplicate entries from lists. Most importantly, they let you very efficiently check whether an element already exists.\n",
        "\n",
        "A set works based on a mathematical function that produces a \"hash code\". This hash code is then used as an index to an array. For example, \"Jimmy\" could hash to the value 13, and accordingly, Jimmy would be put at the 13th index of an array. When we want to test whether \"Jimmy\" is already in a set, we simply compute the hash, which will again produce 13, and then look up whether something is stored at index 13.\n",
        "\n",
        "We can check whether a set contains a value using the `in` keyword:"
      ]
    },
    {
      "cell_type": "code",
      "metadata": {
        "id": "7B4H2fwD7xnV",
        "outputId": "5996fbf1-088c-4400-d6a4-8fbd59c49134",
        "colab": {
          "base_uri": "https://localhost:8080/"
        }
      },
      "source": [
        "\"Jimmy\" in usernames"
      ],
      "execution_count": null,
      "outputs": [
        {
          "output_type": "execute_result",
          "data": {
            "text/plain": [
              "True"
            ]
          },
          "metadata": {},
          "execution_count": 26
        }
      ]
    },
    {
      "cell_type": "code",
      "metadata": {
        "id": "InVX7GCZ7xnX",
        "outputId": "31384680-c270-4a9b-cb4f-13345c553a51",
        "colab": {
          "base_uri": "https://localhost:8080/"
        }
      },
      "source": [
        "\"Ringo\" in usernames"
      ],
      "execution_count": null,
      "outputs": [
        {
          "output_type": "execute_result",
          "data": {
            "text/plain": [
              "False"
            ]
          },
          "metadata": {},
          "execution_count": 27
        }
      ]
    },
    {
      "cell_type": "markdown",
      "metadata": {
        "id": "VipfINJQ7xnY"
      },
      "source": [
        "We can add values using the add function on a set:"
      ]
    },
    {
      "cell_type": "code",
      "metadata": {
        "id": "F1aDGFGT7xnZ",
        "outputId": "4ab5beef-8d83-4b58-91aa-f054e0e8ac4d",
        "colab": {
          "base_uri": "https://localhost:8080/"
        }
      },
      "source": [
        "usernames.add(\"JohnB\")\n",
        "usernames"
      ],
      "execution_count": null,
      "outputs": [
        {
          "output_type": "execute_result",
          "data": {
            "text/plain": [
              "{'Jimmy', 'John', 'JohnB', 'Robert'}"
            ]
          },
          "metadata": {},
          "execution_count": 28
        }
      ]
    },
    {
      "cell_type": "markdown",
      "metadata": {
        "id": "tpdfcaQP7xnc"
      },
      "source": [
        "And remove elements with the remove function:"
      ]
    },
    {
      "cell_type": "code",
      "metadata": {
        "id": "_3iDj_R57xnd",
        "outputId": "6e0bb3a3-2100-42c6-eea0-811419dd814c",
        "colab": {
          "base_uri": "https://localhost:8080/"
        }
      },
      "source": [
        "usernames.remove(\"John\")\n",
        "usernames"
      ],
      "execution_count": null,
      "outputs": [
        {
          "output_type": "execute_result",
          "data": {
            "text/plain": [
              "{'Jimmy', 'JohnB', 'Robert'}"
            ]
          },
          "metadata": {},
          "execution_count": 29
        }
      ]
    },
    {
      "cell_type": "markdown",
      "metadata": {
        "id": "km6gHuTh7xng"
      },
      "source": [
        "If the set doesn't contain a key we want to remove, it will throw a `KeyError`."
      ]
    },
    {
      "cell_type": "code",
      "metadata": {
        "id": "fs9JPtfw7xng",
        "outputId": "f81fb107-c9ba-46ca-ef6b-1c94a3979f78",
        "colab": {
          "base_uri": "https://localhost:8080/",
          "height": 176
        }
      },
      "source": [
        "usernames.remove(\"Joseph\")"
      ],
      "execution_count": null,
      "outputs": [
        {
          "output_type": "error",
          "ename": "KeyError",
          "evalue": "'Joseph'",
          "traceback": [
            "\u001b[0;31m---------------------------------------------------------------------------\u001b[0m",
            "\u001b[0;31mKeyError\u001b[0m                                  Traceback (most recent call last)",
            "\u001b[0;32m<ipython-input-30-7da8667bc580>\u001b[0m in \u001b[0;36m<cell line: 1>\u001b[0;34m()\u001b[0m\n\u001b[0;32m----> 1\u001b[0;31m \u001b[0musernames\u001b[0m\u001b[0;34m.\u001b[0m\u001b[0mremove\u001b[0m\u001b[0;34m(\u001b[0m\u001b[0;34m\"Joseph\"\u001b[0m\u001b[0;34m)\u001b[0m\u001b[0;34m\u001b[0m\u001b[0;34m\u001b[0m\u001b[0m\n\u001b[0m",
            "\u001b[0;31mKeyError\u001b[0m: 'Joseph'"
          ]
        }
      ]
    },
    {
      "cell_type": "markdown",
      "metadata": {
        "id": "WWS8fh1h7xni"
      },
      "source": [
        "To prevent that, it is advisable to first check whether a set actually contains a value, if you're not 100% sure:"
      ]
    },
    {
      "cell_type": "code",
      "metadata": {
        "id": "_km-ZSm57xnj"
      },
      "source": [
        "if (\"Joseph\" in usernames):\n",
        "    usernames.remove(\"Joseph\")"
      ],
      "execution_count": null,
      "outputs": []
    },
    {
      "cell_type": "code",
      "source": [
        "usernames"
      ],
      "metadata": {
        "id": "VbPDws28rpsO",
        "colab": {
          "base_uri": "https://localhost:8080/"
        },
        "outputId": "082e05c4-f6d0-490b-eff5-8c2cdc669b3d"
      },
      "execution_count": null,
      "outputs": [
        {
          "output_type": "execute_result",
          "data": {
            "text/plain": [
              "{'Jimmy', 'JohnB', 'Robert'}"
            ]
          },
          "metadata": {},
          "execution_count": 32
        }
      ]
    },
    {
      "cell_type": "markdown",
      "metadata": {
        "id": "Kj3SVu7C7xnk"
      },
      "source": [
        "We can iterate over the values of a set. Note, however, that no guarantee about the order of the set is made."
      ]
    },
    {
      "cell_type": "code",
      "metadata": {
        "id": "Zs6Fpd_H7xnl",
        "colab": {
          "base_uri": "https://localhost:8080/"
        },
        "outputId": "80135c92-3381-4c70-c620-a5fb7d93d528"
      },
      "source": [
        "for name in usernames:\n",
        "    print (name)"
      ],
      "execution_count": null,
      "outputs": [
        {
          "output_type": "stream",
          "name": "stdout",
          "text": [
            "Jimmy\n",
            "JohnB\n",
            "Robert\n"
          ]
        }
      ]
    },
    {
      "cell_type": "markdown",
      "metadata": {
        "id": "_UuMhEmf7xnn"
      },
      "source": [
        "Make sure to check out the [documentation](https://docs.python.org/3.5/library/stdtypes.html#set) to see what else a set can do."
      ]
    },
    {
      "cell_type": "markdown",
      "metadata": {
        "id": "JQSxNQwt7xno"
      },
      "source": [
        "## **Exercise 2: Sets**\n",
        "\n",
        "Write a function that finds the overlap of two sets and prints them. Initialize two sets, e.g., with values {13, 25, 37, 45, 13} and {14, 25, 38, 8, 45} and call this function with them."
      ]
    },
    {
      "cell_type": "code",
      "source": [],
      "metadata": {
        "id": "LV0Em2892Ftn"
      },
      "execution_count": null,
      "outputs": []
    },
    {
      "cell_type": "markdown",
      "metadata": {
        "id": "xUpghish7xnp"
      },
      "source": [
        "## 3. Dictionaries"
      ]
    },
    {
      "cell_type": "markdown",
      "metadata": {
        "collapsed": true,
        "id": "4aREiZZf7xnq"
      },
      "source": [
        "[Dictionaries](https://docs.python.org/3/tutorial/datastructures.html#dictionaries) are related to sets, but are more powerful: in addition to the key used to identify an element in a set, dictionaries also store a value associated with a key. Other terms commonly used for dictionaries are *associative arrays*, *(hash) maps*, and *hash tables*.\n",
        "\n",
        "Here is a simple example:"
      ]
    },
    {
      "cell_type": "code",
      "metadata": {
        "id": "n1y7zLBa7xnq",
        "outputId": "5b615f86-2729-415e-a780-227e6785807a",
        "colab": {
          "base_uri": "https://localhost:8080/"
        }
      },
      "source": [
        "musicians = {\"John\":\"Zeppelin\", \"Jimmy\":\"Zeppelin\", \"Paul\":\"Beatles\", \"Ringo\":\"Beatles\"}\n",
        "musicians"
      ],
      "execution_count": null,
      "outputs": [
        {
          "output_type": "execute_result",
          "data": {
            "text/plain": [
              "{'John': 'Zeppelin',\n",
              " 'Jimmy': 'Zeppelin',\n",
              " 'Paul': 'Beatles',\n",
              " 'Ringo': 'Beatles'}"
            ]
          },
          "metadata": {},
          "execution_count": 34
        }
      ]
    },
    {
      "cell_type": "markdown",
      "metadata": {
        "id": "zTC1ml8u7xny"
      },
      "source": [
        "As we can see, a dictionary can be created with curly brackets and a list of key-value pairs, separated by a `:`. Here, the names are the keys, the bands are the values.\n",
        "\n",
        "There are other ways of creating a dictionary. Here, we pass a list of tuples to the dictionary, but we could also pass a list of lists."
      ]
    },
    {
      "cell_type": "code",
      "metadata": {
        "id": "T5y4qLPv7xnz",
        "outputId": "ca1bbcc9-4f02-436b-845c-3539db0fac6c",
        "colab": {
          "base_uri": "https://localhost:8080/"
        }
      },
      "source": [
        "a=[(\"Thom\", \"Radiohead\"), (\"Dave\", \"Foo Fighters\")]\n",
        "more_musicians = dict(a)\n",
        "more_musicians"
      ],
      "execution_count": null,
      "outputs": [
        {
          "output_type": "execute_result",
          "data": {
            "text/plain": [
              "{'Thom': 'Radiohead', 'Dave': 'Foo Fighters'}"
            ]
          },
          "metadata": {},
          "execution_count": 35
        }
      ]
    },
    {
      "cell_type": "markdown",
      "metadata": {
        "id": "Edejl-_t7xn2"
      },
      "source": [
        "Of course, a dictionary can be of any data type. Here is an example with int as keys, floats as values:"
      ]
    },
    {
      "cell_type": "code",
      "metadata": {
        "id": "1D8bl52n7xn2",
        "outputId": "045ce58e-d203-4e9f-a541-f93f07ba18bd",
        "colab": {
          "base_uri": "https://localhost:8080/"
        }
      },
      "source": [
        "numbers = {3:1.45, 4:1.32, 19:9.97, 6:9.99}\n",
        "numbers"
      ],
      "execution_count": null,
      "outputs": [
        {
          "output_type": "execute_result",
          "data": {
            "text/plain": [
              "{3: 1.45, 4: 1.32, 19: 9.97, 6: 9.99}"
            ]
          },
          "metadata": {},
          "execution_count": 36
        }
      ]
    },
    {
      "cell_type": "markdown",
      "metadata": {
        "id": "i0ljIwqZ7xn4"
      },
      "source": [
        "Note that it's generally not a good idea to use floats as keys, as they are stored only as approximations.\n",
        "\n",
        "Dict elements are accessed just as elements in a list, with square brackets, but instead of the index, we pass in the key:"
      ]
    },
    {
      "cell_type": "code",
      "metadata": {
        "id": "yiPGsa7G7xn4",
        "outputId": "36211e3a-6fcd-49c5-dd3c-54768b9e755a",
        "colab": {
          "base_uri": "https://localhost:8080/"
        }
      },
      "source": [
        "numbers[3]"
      ],
      "execution_count": null,
      "outputs": [
        {
          "output_type": "execute_result",
          "data": {
            "text/plain": [
              "1.45"
            ]
          },
          "metadata": {},
          "execution_count": 7
        }
      ]
    },
    {
      "cell_type": "code",
      "metadata": {
        "id": "d62Ls9nG7xn6",
        "outputId": "ab9bde46-0f56-4578-ea65-e7edf8e280b6",
        "colab": {
          "base_uri": "https://localhost:8080/",
          "height": 35
        }
      },
      "source": [
        "musicians[\"John\"]"
      ],
      "execution_count": null,
      "outputs": [
        {
          "output_type": "execute_result",
          "data": {
            "text/plain": [
              "'Zeppelin'"
            ],
            "application/vnd.google.colaboratory.intrinsic+json": {
              "type": "string"
            }
          },
          "metadata": {},
          "execution_count": 37
        }
      ]
    },
    {
      "cell_type": "markdown",
      "metadata": {
        "id": "1QwkaOEJ7xn7"
      },
      "source": [
        "We can add elements to a dict:"
      ]
    },
    {
      "cell_type": "code",
      "metadata": {
        "id": "52ieHUt77xoB",
        "outputId": "3547839b-823e-437c-ade2-2379f5a1bec3",
        "colab": {
          "base_uri": "https://localhost:8080/"
        }
      },
      "source": [
        "musicians[\"Thom\"] = \"Radiohead\"\n",
        "musicians"
      ],
      "execution_count": null,
      "outputs": [
        {
          "output_type": "execute_result",
          "data": {
            "text/plain": [
              "{'John': 'Zeppelin',\n",
              " 'Jimmy': 'Zeppelin',\n",
              " 'Paul': 'Beatles',\n",
              " 'Ringo': 'Beatles',\n",
              " 'Thom': 'Radiohead'}"
            ]
          },
          "metadata": {},
          "execution_count": 38
        }
      ]
    },
    {
      "cell_type": "markdown",
      "metadata": {
        "id": "jjM0e1687xoE"
      },
      "source": [
        "And remove them using the `del` keyword:"
      ]
    },
    {
      "cell_type": "code",
      "metadata": {
        "id": "kcnGg6yv7xoE",
        "outputId": "0f3f2c64-390d-423e-b625-fe78162e25b5",
        "colab": {
          "base_uri": "https://localhost:8080/"
        }
      },
      "source": [
        "del musicians[\"Thom\"]\n",
        "musicians"
      ],
      "execution_count": null,
      "outputs": [
        {
          "output_type": "execute_result",
          "data": {
            "text/plain": [
              "{'John': 'Zeppelin',\n",
              " 'Jimmy': 'Zeppelin',\n",
              " 'Paul': 'Beatles',\n",
              " 'Ringo': 'Beatles'}"
            ]
          },
          "metadata": {},
          "execution_count": 39
        }
      ]
    },
    {
      "cell_type": "markdown",
      "metadata": {
        "id": "UTKzUDCG7xoH"
      },
      "source": [
        "Again, we have to worry about key errors. If we want to remove Thom again, we'd get a `KeyError`."
      ]
    },
    {
      "cell_type": "code",
      "metadata": {
        "id": "2Z0kDUVe7xoI",
        "outputId": "546abfe5-3bd3-4a9b-cca1-0619a414efe1",
        "colab": {
          "base_uri": "https://localhost:8080/",
          "height": 176
        }
      },
      "source": [
        "del musicians[\"Thom\"]"
      ],
      "execution_count": null,
      "outputs": [
        {
          "output_type": "error",
          "ename": "KeyError",
          "evalue": "'Thom'",
          "traceback": [
            "\u001b[0;31m---------------------------------------------------------------------------\u001b[0m",
            "\u001b[0;31mKeyError\u001b[0m                                  Traceback (most recent call last)",
            "\u001b[0;32m<ipython-input-40-4d3b8f26b654>\u001b[0m in \u001b[0;36m<cell line: 1>\u001b[0;34m()\u001b[0m\n\u001b[0;32m----> 1\u001b[0;31m \u001b[0;32mdel\u001b[0m \u001b[0mmusicians\u001b[0m\u001b[0;34m[\u001b[0m\u001b[0;34m\"Thom\"\u001b[0m\u001b[0;34m]\u001b[0m\u001b[0;34m\u001b[0m\u001b[0;34m\u001b[0m\u001b[0m\n\u001b[0m",
            "\u001b[0;31mKeyError\u001b[0m: 'Thom'"
          ]
        }
      ]
    },
    {
      "cell_type": "markdown",
      "metadata": {
        "id": "9pDBIo-K7xoL"
      },
      "source": [
        "We can access a list of keys and values separately:"
      ]
    },
    {
      "cell_type": "code",
      "metadata": {
        "id": "zUHmPUK17xoL",
        "outputId": "2776c797-e1bc-4834-a1fd-8103dc3fdec8",
        "colab": {
          "base_uri": "https://localhost:8080/"
        }
      },
      "source": [
        "musicians.keys()"
      ],
      "execution_count": null,
      "outputs": [
        {
          "output_type": "execute_result",
          "data": {
            "text/plain": [
              "dict_keys(['John', 'Jimmy', 'Paul', 'Ringo'])"
            ]
          },
          "metadata": {},
          "execution_count": 42
        }
      ]
    },
    {
      "cell_type": "markdown",
      "metadata": {
        "id": "ABLjDKnw7xoN"
      },
      "source": [
        "Notice that the result is not a list or a set, but a [view object](https://docs.python.org/3/library/stdtypes.html#dict-views). A view object always is updated when the dictionary is changed, and we can use it to iterate over a dictionary."
      ]
    },
    {
      "cell_type": "code",
      "metadata": {
        "id": "70XrFE1N7xoO",
        "outputId": "b8b9cc51-1eb5-4e2e-92cb-7f927c9c77f0",
        "colab": {
          "base_uri": "https://localhost:8080/"
        }
      },
      "source": [
        "for musician in musicians.keys():\n",
        "    print(musician)"
      ],
      "execution_count": null,
      "outputs": [
        {
          "output_type": "stream",
          "name": "stdout",
          "text": [
            "John\n",
            "Jimmy\n",
            "Paul\n",
            "Ringo\n"
          ]
        }
      ]
    },
    {
      "cell_type": "markdown",
      "metadata": {
        "id": "tXNkiJqB7xoQ"
      },
      "source": [
        "This also works with `values()` and `items()`:"
      ]
    },
    {
      "cell_type": "code",
      "metadata": {
        "id": "wpQqj3uS7xoR",
        "outputId": "34a56063-98c8-4bbf-d088-9a46c0f566e1",
        "colab": {
          "base_uri": "https://localhost:8080/"
        }
      },
      "source": [
        "musicians.values()"
      ],
      "execution_count": null,
      "outputs": [
        {
          "output_type": "execute_result",
          "data": {
            "text/plain": [
              "dict_values(['Zeppelin', 'Zeppelin', 'Beatles', 'Beatles'])"
            ]
          },
          "metadata": {},
          "execution_count": 44
        }
      ]
    },
    {
      "cell_type": "code",
      "metadata": {
        "id": "czdGgX-r7xoS",
        "outputId": "236f5234-4076-4563-90b6-66392d452deb",
        "colab": {
          "base_uri": "https://localhost:8080/"
        }
      },
      "source": [
        "musicians.items()"
      ],
      "execution_count": null,
      "outputs": [
        {
          "output_type": "execute_result",
          "data": {
            "text/plain": [
              "dict_items([('John', 'Zeppelin'), ('Jimmy', 'Zeppelin'), ('Paul', 'Beatles'), ('Ringo', 'Beatles')])"
            ]
          },
          "metadata": {},
          "execution_count": 45
        }
      ]
    },
    {
      "cell_type": "markdown",
      "metadata": {
        "id": "tjhRavHC7xoU"
      },
      "source": [
        "The latter is especially handy for iterating over the key-value pairs in a dictionary:"
      ]
    },
    {
      "cell_type": "code",
      "metadata": {
        "id": "rXeUYq8u7xoU",
        "outputId": "3011ea89-7f2b-42b2-946c-9c34ba6eb5af",
        "colab": {
          "base_uri": "https://localhost:8080/"
        }
      },
      "source": [
        "# notice that we iterate over tuples and assign the elements of the tuple to k and v, respectively.\n",
        "for k, v in musicians.items():\n",
        "    print (k + \", \" + v)"
      ],
      "execution_count": null,
      "outputs": [
        {
          "output_type": "stream",
          "name": "stdout",
          "text": [
            "John, Zeppelin\n",
            "Jimmy, Zeppelin\n",
            "Paul, Beatles\n",
            "Ringo, Beatles\n"
          ]
        }
      ]
    },
    {
      "cell_type": "markdown",
      "metadata": {
        "id": "-17zpbd-7xoV"
      },
      "source": [
        "Another way to write the previous expression would be like this:"
      ]
    },
    {
      "cell_type": "code",
      "metadata": {
        "id": "3b_nhmm47xoW",
        "colab": {
          "base_uri": "https://localhost:8080/"
        },
        "outputId": "d9d3e1f5-a409-489e-de3a-3c22b434bd35"
      },
      "source": [
        "for k in musicians.keys():\n",
        "    print(k + \", \" +  musicians[k])"
      ],
      "execution_count": null,
      "outputs": [
        {
          "output_type": "stream",
          "name": "stdout",
          "text": [
            "John, Zeppelin\n",
            "Jimmy, Zeppelin\n",
            "Paul, Beatles\n",
            "Ringo, Beatles\n"
          ]
        }
      ]
    },
    {
      "cell_type": "markdown",
      "metadata": {
        "id": "EciYWtLo7xoX"
      },
      "source": [
        "Make sure to check out [the dictionary documentation](https://docs.python.org/3/library/stdtypes.html#typesmapping) for more info."
      ]
    },
    {
      "cell_type": "markdown",
      "metadata": {
        "id": "JhU4SX2z7xoY"
      },
      "source": [
        "### **Exercise 3: Dictionaries**\n",
        "\n",
        " * Create a dictionary with two-letter codes of two of US states and the full names, e.g., UT: Utah, NY: New York\n",
        " * After initially creating the dictionary, add two more states to the dictionary.\n",
        " * Create a second dictionary that maps the state codes to an array of cities in that state, e.g., UT: [Salt Lake City, Ogden, Provo, St. George].\n",
        " * Write a function that takes a state code and prints the full name of the state and lists the cities in that state."
      ]
    },
    {
      "cell_type": "markdown",
      "metadata": {
        "id": "MdW2Sndw4XH0"
      },
      "source": [
        "## 4. Revisiting Lists: List Comprehension"
      ]
    },
    {
      "cell_type": "markdown",
      "metadata": {
        "id": "KD5Mq4XQ4XH3"
      },
      "source": [
        "Now that we know about loops, we can also take a look at [list comprehension](https://docs.python.org/3.5/tutorial/datastructures.html#list-comprehensions). List comprehension can be used to initialize and transform arrays.\n",
        "\n"
      ]
    },
    {
      "cell_type": "code",
      "metadata": {
        "id": "RUIx8B_E4XH4",
        "outputId": "80f99c83-47cc-4ef8-af52-f4c8b42d09fd",
        "colab": {
          "base_uri": "https://localhost:8080/"
        }
      },
      "source": [
        "# _ is customary for a variable name if you don't need it\n",
        "[0 for _ in range(10)]"
      ],
      "execution_count": null,
      "outputs": [
        {
          "output_type": "execute_result",
          "data": {
            "text/plain": [
              "[0, 0, 0, 0, 0, 0, 0, 0, 0, 0]"
            ]
          },
          "metadata": {},
          "execution_count": 48
        }
      ]
    },
    {
      "cell_type": "code",
      "metadata": {
        "id": "1himh-gT4XH5",
        "outputId": "e13ef593-9e6b-4605-9677-847757efbdc9",
        "colab": {
          "base_uri": "https://localhost:8080/"
        }
      },
      "source": [
        "[\"John\" for _ in range(10)]"
      ],
      "execution_count": null,
      "outputs": [
        {
          "output_type": "execute_result",
          "data": {
            "text/plain": [
              "['John',\n",
              " 'John',\n",
              " 'John',\n",
              " 'John',\n",
              " 'John',\n",
              " 'John',\n",
              " 'John',\n",
              " 'John',\n",
              " 'John',\n",
              " 'John']"
            ]
          },
          "metadata": {},
          "execution_count": 49
        }
      ]
    },
    {
      "cell_type": "code",
      "metadata": {
        "scrolled": true,
        "id": "sp8oyngr4XH6",
        "outputId": "50828839-bf26-44ce-b4c8-5a0d113a3f1c",
        "colab": {
          "base_uri": "https://localhost:8080/"
        }
      },
      "source": [
        "# we can also make use of values we iterate over\n",
        "[i*100+32 for i in range(10)]"
      ],
      "execution_count": null,
      "outputs": [
        {
          "output_type": "execute_result",
          "data": {
            "text/plain": [
              "[32, 132, 232, 332, 432, 532, 632, 732, 832, 932]"
            ]
          },
          "metadata": {},
          "execution_count": 50
        }
      ]
    },
    {
      "cell_type": "markdown",
      "metadata": {
        "id": "gB_4pAcM4XH7"
      },
      "source": [
        "We can, for example use functions in place of a variable. Here we initialize an array of random numbers in the unit interval:"
      ]
    },
    {
      "cell_type": "code",
      "metadata": {
        "id": "GA7mU36O4XH8",
        "colab": {
          "base_uri": "https://localhost:8080/"
        },
        "outputId": "e05ebefa-af34-4d83-e105-b8403ec364bb"
      },
      "source": [
        "import random\n",
        "rands = [random.random() for _ in range(10)]\n",
        "rands"
      ],
      "execution_count": null,
      "outputs": [
        {
          "output_type": "execute_result",
          "data": {
            "text/plain": [
              "[0.22350870528444533,\n",
              " 0.28202211760031737,\n",
              " 0.2808106733917789,\n",
              " 0.3900586414989149,\n",
              " 0.5522770075672638,\n",
              " 0.3553197933315855,\n",
              " 0.6658153653541674,\n",
              " 0.7542598792539316,\n",
              " 0.06765684103805703,\n",
              " 0.579904893258964]"
            ]
          },
          "metadata": {},
          "execution_count": 51
        }
      ]
    },
    {
      "cell_type": "markdown",
      "metadata": {
        "id": "KIL8kakP4XH-"
      },
      "source": [
        "You can also use list comprehension to create a list based on another list:"
      ]
    },
    {
      "cell_type": "code",
      "metadata": {
        "id": "xzrbXD-d4XH-",
        "colab": {
          "base_uri": "https://localhost:8080/"
        },
        "outputId": "2184329b-9c0f-4df6-b4c2-9ee3667257ea"
      },
      "source": [
        "[x*10 for x in rands]"
      ],
      "execution_count": null,
      "outputs": [
        {
          "output_type": "execute_result",
          "data": {
            "text/plain": [
              "[2.2350870528444533,\n",
              " 2.820221176003174,\n",
              " 2.808106733917789,\n",
              " 3.900586414989149,\n",
              " 5.522770075672638,\n",
              " 3.5531979333158548,\n",
              " 6.6581536535416745,\n",
              " 7.542598792539316,\n",
              " 0.6765684103805703,\n",
              " 5.79904893258964]"
            ]
          },
          "metadata": {},
          "execution_count": 52
        }
      ]
    },
    {
      "cell_type": "markdown",
      "metadata": {
        "id": "wpDxNKaQ4XH_"
      },
      "source": [
        "## Exercise 4: List Comprehension\n",
        "\n",
        "Write a list comprehension function that creates an array with the length of the words in the following sentence:"
      ]
    },
    {
      "cell_type": "code",
      "metadata": {
        "id": "2rpe7tbY4XH_",
        "colab": {
          "base_uri": "https://localhost:8080/"
        },
        "outputId": "cffaed26-939c-4030-fc2a-7038dac0316b"
      },
      "source": [
        "sentence = \"the quick brown fox jumps over the lazy dog\"\n",
        "word_list = sentence.split()\n",
        "word_list"
      ],
      "execution_count": null,
      "outputs": [
        {
          "output_type": "execute_result",
          "data": {
            "text/plain": [
              "['the', 'quick', 'brown', 'fox', 'jumps', 'over', 'the', 'lazy', 'dog']"
            ]
          },
          "metadata": {},
          "execution_count": 53
        }
      ]
    },
    {
      "cell_type": "code",
      "metadata": {
        "id": "cIzkgP8S4XIA"
      },
      "source": [
        "# your solution"
      ],
      "execution_count": null,
      "outputs": []
    }
  ]
}