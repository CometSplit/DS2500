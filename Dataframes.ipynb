{
  "nbformat": 4,
  "nbformat_minor": 0,
  "metadata": {
    "anaconda-cloud": {},
    "kernelspec": {
      "display_name": "Python 3",
      "language": "python",
      "name": "python3"
    },
    "language_info": {
      "codemirror_mode": {
        "name": "ipython",
        "version": 3
      },
      "file_extension": ".py",
      "mimetype": "text/x-python",
      "name": "python",
      "nbconvert_exporter": "python",
      "pygments_lexer": "ipython3",
      "version": "3.7.1"
    },
    "nbpresent": {
      "slides": {
        "19a6495f-8346-4b23-a98a-c7115941e8f0": {
          "id": "19a6495f-8346-4b23-a98a-c7115941e8f0",
          "prev": null,
          "regions": {
            "d6523b36-7204-4001-8a6c-37c431b18d26": {
              "attrs": {
                "height": 1,
                "width": 1,
                "x": 0,
                "y": 0
              },
              "id": "d6523b36-7204-4001-8a6c-37c431b18d26"
            }
          }
        }
      },
      "themes": {}
    },
    "colab": {
      "provenance": [],
      "include_colab_link": true
    }
  },
  "cells": [
    {
      "cell_type": "markdown",
      "metadata": {
        "id": "view-in-github",
        "colab_type": "text"
      },
      "source": [
        "<a href=\"https://colab.research.google.com/github/CometSplit/DS2500/blob/main/Dataframes.ipynb\" target=\"_parent\"><img src=\"https://colab.research.google.com/assets/colab-badge.svg\" alt=\"Open In Colab\"/></a>"
      ]
    },
    {
      "cell_type": "markdown",
      "metadata": {
        "nbpresent": {
          "id": "50a40f10-f4b6-4dd3-b7aa-c63ed3ca3244"
        },
        "id": "Lyl5eVX3-Z_D"
      },
      "source": [
        "DS 2500: Notebook 0-5\n",
        "\n",
        "Prof. Marina Kogan\n",
        "\n",
        "based in part on materials by Prof. Alex Lex\n",
        "\n",
        "In this lecture, we will learn how to read in and write files and then finally cover pandas dataframes."
      ]
    },
    {
      "cell_type": "markdown",
      "metadata": {
        "id": "YI1Bbnlt-Z_6"
      },
      "source": [
        "# 1. Reading Data\n",
        "\n",
        "Up to now, we've mainly used data that we've specified directly in code. This is, of course, not particularly scalable. We want to load data from files and eventually also connect to databases and APIs.\n",
        "\n",
        "Data is often stored in structured file formats, such as CSV, JSON, or XML. We'll encounter all of these file formats in this class.\n",
        "\n",
        "JSON\n",
        "\n",
        "```json\n",
        "{\n",
        "    \"fruit\": \"Apple\",\n",
        "    \"size\": \"Large\",\n",
        "    \"color\": \"Red\"\n",
        "}\n",
        "```\n",
        "\n",
        "XML\n",
        "```xml\n",
        "<note>\n",
        "<to>Students</to>\n",
        "<from>Prof</from>\n",
        "<heading>Reminder</heading>\n",
        "<body>HW2 due this Friday at 11:59pm!</body>\n",
        "</note>\n",
        "```\n",
        "\n",
        "The simplest (and least structured) is a CSV — comma separated values — file. CSV isn't a formal file format, rather it's a table represented as a text file where the cells are separated by a delimiter. Commonly, the first row represents the header. A delimiter can be a tab character, a semicolon, a colon, etc.\n",
        "\n",
        "Many CSV files also have a special convention for dealing with text that could include the delimiter. The following text would be very hard to parse otherwise:\n",
        "```\n",
        "Artist, Album, Genre\n",
        "Michael Jackson, Bad, Pop, funk, rock\n",
        "```\n",
        "\n",
        "Here, the album is of multiple genres which are separated by a comma. The comma, however, is also used to delimit the individual columns. To work around that, double-quotes are commonly used to indicate that all the elements contained within the quotes are not meant to be delimiters:\n",
        "\n",
        "```\n",
        "Artist, Album, Genre\n",
        "Michael Jackson, Bad, \"Pop, funk, rock\"\n",
        "```\n",
        "\n",
        "Now, it is clear that `Pop, funk, rock` should belong in a single cell.\n",
        "\n",
        "We've prepared a dataset based on Wikipedia's [list of best-selling albums](https://en.wikipedia.org/wiki/List_of_best-selling_albums) in the file [hit_albums.csv](https://www.dropbox.com/s/47acguoyqfr3een/hit_albums.csv?dl=0).\n",
        "\n",
        "Here is what the first couple of lines look like:"
      ]
    },
    {
      "cell_type": "markdown",
      "metadata": {
        "id": "NQExy3Xu-Z_6"
      },
      "source": [
        "```\n",
        "Artist,Album,Released,Genre,\"Certified sales (millions)\",Claimed sales (millions)\n",
        "Michael Jackson,Thriller,1982,\"Pop, rock, R&B\",45.4,65\n",
        "AC/DC,Back in Black,1980,Hard rock,25.9,50\n",
        "Pink Floyd,The Dark Side of the Moon,1973,Progressive rock,22.7,45\n",
        "Whitney Houston / Various artists,The Bodyguard,1992,\"Soundtrack/R&B, soul, pop\",27.4,44\n",
        "...\n",
        "```"
      ]
    },
    {
      "cell_type": "markdown",
      "metadata": {
        "id": "mPYgWpJF-Z_7"
      },
      "source": [
        "There are various ways of reading a CSV file. We'll first cover the basic read (and write) operations of Python, but will quickly move on to specific parsers for CSV files in Python and in pandas. First, let's download the file into your Colab environment."
      ]
    },
    {
      "cell_type": "code",
      "metadata": {
        "id": "U392rG63Im_0",
        "colab": {
          "base_uri": "https://localhost:8080/"
        },
        "outputId": "e88ed8ea-df31-4163-9503-062dbd02611d"
      },
      "source": [
        "!curl -L 'https://www.dropbox.com/s/47acguoyqfr3een/hit_albums.csv?dl=1' > 'hit_albums.csv'"
      ],
      "execution_count": null,
      "outputs": [
        {
          "output_type": "stream",
          "name": "stdout",
          "text": [
            "  % Total    % Received % Xferd  Average Speed   Time    Time     Time  Current\n",
            "                                 Dload  Upload   Total   Spent    Left  Speed\n",
            "100    59    0    59    0     0    153      0 --:--:-- --:--:-- --:--:--   154\n",
            "100   320  100   320    0     0    308      0  0:00:01  0:00:01 --:--:--     0\n",
            "100  4397  100  4397    0     0   2887      0  0:00:01  0:00:01 --:--:--  2887\n"
          ]
        }
      ]
    },
    {
      "cell_type": "markdown",
      "metadata": {
        "id": "1Y0QV6Xb-Z_7"
      },
      "source": [
        "## Basic File Operations\n",
        "\n",
        "To read a file we first have to open it by specifying the file path, and specifying whether we want to read (r), write (w), both (r+), or append (a)."
      ]
    },
    {
      "cell_type": "code",
      "metadata": {
        "id": "aecePaEr-Z_8"
      },
      "source": [
        "albums_file = open('hit_albums.csv', 'r')"
      ],
      "execution_count": null,
      "outputs": []
    },
    {
      "cell_type": "markdown",
      "metadata": {
        "id": "rvsWSHgq-Z_9"
      },
      "source": [
        "We can read a whole file at once. Notice that lines are terminated with a special character, a linefeed or newline character specified as `\\n`."
      ]
    },
    {
      "cell_type": "code",
      "metadata": {
        "id": "pm99pFDu-Z_9",
        "colab": {
          "base_uri": "https://localhost:8080/",
          "height": 157
        },
        "outputId": "5b10964a-ee9b-4cbf-b189-1176e70ce9fc"
      },
      "source": [
        "content = albums_file.read()\n",
        "content"
      ],
      "execution_count": null,
      "outputs": [
        {
          "output_type": "execute_result",
          "data": {
            "text/plain": [
              "'Artist,Album,Released,Genre,\"Certified sales (millions)\",Claimed sales (millions)\\nMichael Jackson,Thriller,1982,\"Pop, rock, R&B\",45.4,65\\nAC/DC,Back in Black,1980,Hard rock,25.9,50\\nPink Floyd,The Dark Side of the Moon,1973,Progressive rock,22.7,45\\nWhitney Houston / Various artists,The Bodyguard,1992,\"Soundtrack/R&B, soul, pop\",27.4,44\\nMeat Loaf,Bat Out of Hell,1977,\"Hard rock, progressive rock\",20.6,43\\nEagles,Their Greatest Hits (1971–1975),1976,\"Rock, soft rock, folk rock\",32.2,42\\nBee Gees / Various artists,Saturday Night Fever,1977,Disco,19,40\\nFleetwood Mac,Rumours,1977,Soft rock,27.9,40\\nShania Twain,Come On Over,1997,\"Country, pop\",29.6,39\\nLed Zeppelin,Led Zeppelin IV,1971,\"Hard rock, heavy metal\",29,37\\nMichael Jackson,Bad,1987,\"Pop, funk, rock\",20.3,34\\nAlanis Morissette,Jagged Little Pill,1995,Alternative rock,24.8,33\\nCeline Dion,Falling into You,1996,\"Pop, Soft rock\",20.2,32\\nThe Beatles,Sgt. Pepper\\'s Lonely Hearts Club Band,1967,Rock,13.1,32\\nEagles,Hotel California,1976,\"Rock, soft rock, folk rock\",21.5,32\\nMariah Carey,Music Box,1993,\"Pop, R&B, Rock\",19,32\\nMichael Jackson,Dangerous,1991,\"Rock, Funk, Pop\",17.6,32\\nVarious artists,Dirty Dancing,1987,\"Pop, rock, R&B\",17.9,32\\nCeline Dion,Let\\'s Talk About Love,1997,\"Pop, Soft rock\",19.3,31\\nThe Beatles,1,2000,Rock,21.6,31\\nAdele,21,2011,\"Pop, soul\",22.3,30\\nThe Beatles,Abbey Road,1969,Rock,14.4,30\\nBruce Springsteen,Born in the U.S.A.,1984,Rock,19.6,30\\nDire Straits,Brothers in Arms,1985,Rock,17.7,30\\nJames Horner,Titanic: Music from the Motion Picture,1997,Soundtrack,18.1,30\\nMadonna,The Immaculate Collection,1990,\"Pop, Dance\",19.4,30\\nMetallica,Metallica,1991,\"Thrash metal, heavy metal\",19.9,30\\nNirvana,Nevermind,1991,\"Grunge, alternative rock\",16.7,30\\nPink Floyd,The Wall,1979,Progressive rock,17.6,30\\nSantana,Supernatural,1999,Rock,20.5,30\\nGuns N\\' Roses,Appetite for Destruction,1987,\"Heavy metal, hard rock\",21.3,30\\nABBA,Gold: Greatest Hits,1992,Pop,29,\\nBon Jovi,Slippery When Wet,1986,Hard rock,28,\\nSpice Girls,Spice,1996,Pop,28,\\nVarious artists,Grease: The Original Soundtrack from the Motion Picture,1978,Soundtrack,28,\\nBritney Spears,...Baby One More Time,1999,Pop,28,\\nLinkin Park,Hybrid Theory,2000,\"Nu metal, rap metal, alternative metal\",27,\\nBob Marley & The Wailers,Legend: The Best of Bob Marley & The Wailers,1984,Reggae,25,\\nCarole King,Tapestry,1971,Pop,25,\\nMadonna,Like a Virgin,1984,\"Pop, dance\",25,\\nMadonna,True Blue,1986,Pop,25,\\nMariah Carey,Daydream,1995,\"Pop, R&B\",25,\\nNorah Jones,Come Away with Me,2002,Jazz,25,\\nPhil Collins,No Jacket Required,1985,\"Pop, Rock\",25,\\nQueen,Greatest Hits,1981,Rock,25,\\nSimon & Garfunkel,Bridge over Troubled Water,1970,Folk rock,25,\\nU2,The Joshua Tree,1987,Rock,25,\\nWhitney Houston,Whitney Houston,1985,\"Pop, R&B\",25,\\nBackstreet Boys,Backstreet\\'s Back / Backstreet Boys,1997,Pop,24,\\nBackstreet Boys,Millennium,1999,Pop,24,\\nAce of Base,Happy Nation/The Sign,1993,Pop,23,\\nTLC,CrazySexyCool,1994,\"R&B, hip hop\",23,\\nCyndi Lauper,She\\'s So Unusual,1983,\"New wave, pop rock, synthpop\",22,\\nOasis,(What\\'s the Story) Morning Glory?,1995,\"Britpop, rock\",22,\\nBon Jovi,Cross Road,1994,Hard rock,21,\\nEminem,The Marshall Mathers LP,2000,\"Rap, hip-hop\",21,\\nAdele,25,2015,\"Soul, pop, R&B\",20,\\nAvril Lavigne,Let Go,2002,\"Pop rock, alternative rock, post-grunge\",20,\\nBoston,Boston,1976,Hard rock,20,\\nBritney Spears,Oops!... I Did It Again,2000,Pop,20,\\nEric Clapton,Unplugged,1992,\"Acoustic blues, folk rock\",20,\\nDef Leppard,Hysteria,1987,\"Pop, Hard rock\",20,\\nGeorge Michael,Faith,1987,\"Pop, R&B\",20,\\nGreen Day,Dookie,1994,\"Pop punk, punk rock, alternative rock\",20,\\nLionel Richie,Can\\'t Slow Down,1983,\"Pop, R&B, soul\",20,\\nMichael Jackson,\"HIStory: Past, Present and Future, Book I\",1995,\"Pop, rock, R&B\",20,\\nMichael Jackson,Off the Wall,1979,\"Soul, disco, R&B\",20,\\nPrince & the Revolution,Purple Rain,1984,\"Pop, rock, R&B\",20,\\nShania Twain,The Woman in Me,1995,\"Country, pop\",20,\\nShania Twain,Up!,2002,\"Country, pop, world music\",20,\\nSupertramp,Breakfast in America,1979,\"Progressive rock, art rock\",20,\\nTina Turner,Private Dancer,1984,\"Pop, rock, R&B\",20,\\nTracy Chapman,Tracy Chapman,1988,Folk rock,20,\\nUsher,Confessions,2004,R&B,20,\\nVarious artists,Flashdance: Original Soundtrack from the Motion Picture,1983,Soundtrack,20,\\nWhitney Houston,Whitney,1987,\"Pop, R&B\",20,\\nShakira,Laundry Service,2001,\"Pop, Rock\",20,\\n'"
            ],
            "application/vnd.google.colaboratory.intrinsic+json": {
              "type": "string"
            }
          },
          "metadata": {},
          "execution_count": 4
        }
      ]
    },
    {
      "cell_type": "markdown",
      "metadata": {
        "id": "P9i0Ob1G-aAA"
      },
      "source": [
        "If we print this instead, `\\n` is translated into a newline:"
      ]
    },
    {
      "cell_type": "code",
      "metadata": {
        "id": "VPE-fxih-aAB",
        "colab": {
          "base_uri": "https://localhost:8080/"
        },
        "outputId": "0d86441e-89cb-4303-b735-a0054d96df5a"
      },
      "source": [
        "print(content)"
      ],
      "execution_count": null,
      "outputs": [
        {
          "output_type": "stream",
          "name": "stdout",
          "text": [
            "Artist,Album,Released,Genre,\"Certified sales (millions)\",Claimed sales (millions)\n",
            "Michael Jackson,Thriller,1982,\"Pop, rock, R&B\",45.4,65\n",
            "AC/DC,Back in Black,1980,Hard rock,25.9,50\n",
            "Pink Floyd,The Dark Side of the Moon,1973,Progressive rock,22.7,45\n",
            "Whitney Houston / Various artists,The Bodyguard,1992,\"Soundtrack/R&B, soul, pop\",27.4,44\n",
            "Meat Loaf,Bat Out of Hell,1977,\"Hard rock, progressive rock\",20.6,43\n",
            "Eagles,Their Greatest Hits (1971–1975),1976,\"Rock, soft rock, folk rock\",32.2,42\n",
            "Bee Gees / Various artists,Saturday Night Fever,1977,Disco,19,40\n",
            "Fleetwood Mac,Rumours,1977,Soft rock,27.9,40\n",
            "Shania Twain,Come On Over,1997,\"Country, pop\",29.6,39\n",
            "Led Zeppelin,Led Zeppelin IV,1971,\"Hard rock, heavy metal\",29,37\n",
            "Michael Jackson,Bad,1987,\"Pop, funk, rock\",20.3,34\n",
            "Alanis Morissette,Jagged Little Pill,1995,Alternative rock,24.8,33\n",
            "Celine Dion,Falling into You,1996,\"Pop, Soft rock\",20.2,32\n",
            "The Beatles,Sgt. Pepper's Lonely Hearts Club Band,1967,Rock,13.1,32\n",
            "Eagles,Hotel California,1976,\"Rock, soft rock, folk rock\",21.5,32\n",
            "Mariah Carey,Music Box,1993,\"Pop, R&B, Rock\",19,32\n",
            "Michael Jackson,Dangerous,1991,\"Rock, Funk, Pop\",17.6,32\n",
            "Various artists,Dirty Dancing,1987,\"Pop, rock, R&B\",17.9,32\n",
            "Celine Dion,Let's Talk About Love,1997,\"Pop, Soft rock\",19.3,31\n",
            "The Beatles,1,2000,Rock,21.6,31\n",
            "Adele,21,2011,\"Pop, soul\",22.3,30\n",
            "The Beatles,Abbey Road,1969,Rock,14.4,30\n",
            "Bruce Springsteen,Born in the U.S.A.,1984,Rock,19.6,30\n",
            "Dire Straits,Brothers in Arms,1985,Rock,17.7,30\n",
            "James Horner,Titanic: Music from the Motion Picture,1997,Soundtrack,18.1,30\n",
            "Madonna,The Immaculate Collection,1990,\"Pop, Dance\",19.4,30\n",
            "Metallica,Metallica,1991,\"Thrash metal, heavy metal\",19.9,30\n",
            "Nirvana,Nevermind,1991,\"Grunge, alternative rock\",16.7,30\n",
            "Pink Floyd,The Wall,1979,Progressive rock,17.6,30\n",
            "Santana,Supernatural,1999,Rock,20.5,30\n",
            "Guns N' Roses,Appetite for Destruction,1987,\"Heavy metal, hard rock\",21.3,30\n",
            "ABBA,Gold: Greatest Hits,1992,Pop,29,\n",
            "Bon Jovi,Slippery When Wet,1986,Hard rock,28,\n",
            "Spice Girls,Spice,1996,Pop,28,\n",
            "Various artists,Grease: The Original Soundtrack from the Motion Picture,1978,Soundtrack,28,\n",
            "Britney Spears,...Baby One More Time,1999,Pop,28,\n",
            "Linkin Park,Hybrid Theory,2000,\"Nu metal, rap metal, alternative metal\",27,\n",
            "Bob Marley & The Wailers,Legend: The Best of Bob Marley & The Wailers,1984,Reggae,25,\n",
            "Carole King,Tapestry,1971,Pop,25,\n",
            "Madonna,Like a Virgin,1984,\"Pop, dance\",25,\n",
            "Madonna,True Blue,1986,Pop,25,\n",
            "Mariah Carey,Daydream,1995,\"Pop, R&B\",25,\n",
            "Norah Jones,Come Away with Me,2002,Jazz,25,\n",
            "Phil Collins,No Jacket Required,1985,\"Pop, Rock\",25,\n",
            "Queen,Greatest Hits,1981,Rock,25,\n",
            "Simon & Garfunkel,Bridge over Troubled Water,1970,Folk rock,25,\n",
            "U2,The Joshua Tree,1987,Rock,25,\n",
            "Whitney Houston,Whitney Houston,1985,\"Pop, R&B\",25,\n",
            "Backstreet Boys,Backstreet's Back / Backstreet Boys,1997,Pop,24,\n",
            "Backstreet Boys,Millennium,1999,Pop,24,\n",
            "Ace of Base,Happy Nation/The Sign,1993,Pop,23,\n",
            "TLC,CrazySexyCool,1994,\"R&B, hip hop\",23,\n",
            "Cyndi Lauper,She's So Unusual,1983,\"New wave, pop rock, synthpop\",22,\n",
            "Oasis,(What's the Story) Morning Glory?,1995,\"Britpop, rock\",22,\n",
            "Bon Jovi,Cross Road,1994,Hard rock,21,\n",
            "Eminem,The Marshall Mathers LP,2000,\"Rap, hip-hop\",21,\n",
            "Adele,25,2015,\"Soul, pop, R&B\",20,\n",
            "Avril Lavigne,Let Go,2002,\"Pop rock, alternative rock, post-grunge\",20,\n",
            "Boston,Boston,1976,Hard rock,20,\n",
            "Britney Spears,Oops!... I Did It Again,2000,Pop,20,\n",
            "Eric Clapton,Unplugged,1992,\"Acoustic blues, folk rock\",20,\n",
            "Def Leppard,Hysteria,1987,\"Pop, Hard rock\",20,\n",
            "George Michael,Faith,1987,\"Pop, R&B\",20,\n",
            "Green Day,Dookie,1994,\"Pop punk, punk rock, alternative rock\",20,\n",
            "Lionel Richie,Can't Slow Down,1983,\"Pop, R&B, soul\",20,\n",
            "Michael Jackson,\"HIStory: Past, Present and Future, Book I\",1995,\"Pop, rock, R&B\",20,\n",
            "Michael Jackson,Off the Wall,1979,\"Soul, disco, R&B\",20,\n",
            "Prince & the Revolution,Purple Rain,1984,\"Pop, rock, R&B\",20,\n",
            "Shania Twain,The Woman in Me,1995,\"Country, pop\",20,\n",
            "Shania Twain,Up!,2002,\"Country, pop, world music\",20,\n",
            "Supertramp,Breakfast in America,1979,\"Progressive rock, art rock\",20,\n",
            "Tina Turner,Private Dancer,1984,\"Pop, rock, R&B\",20,\n",
            "Tracy Chapman,Tracy Chapman,1988,Folk rock,20,\n",
            "Usher,Confessions,2004,R&B,20,\n",
            "Various artists,Flashdance: Original Soundtrack from the Motion Picture,1983,Soundtrack,20,\n",
            "Whitney Houston,Whitney,1987,\"Pop, R&B\",20,\n",
            "Shakira,Laundry Service,2001,\"Pop, Rock\",20,\n",
            "\n"
          ]
        }
      ]
    },
    {
      "cell_type": "markdown",
      "metadata": {
        "id": "vQZooVKY-aAC"
      },
      "source": [
        "After reading a file, we have to manually close it again to release the OS resources:"
      ]
    },
    {
      "cell_type": "code",
      "metadata": {
        "id": "T4ZA6AhQ-aAD"
      },
      "source": [
        "albums_file.close()"
      ],
      "execution_count": null,
      "outputs": []
    },
    {
      "cell_type": "markdown",
      "metadata": {
        "id": "2ejrXrFF-aAF"
      },
      "source": [
        "Alternatively, we can read each line separately:"
      ]
    },
    {
      "cell_type": "code",
      "metadata": {
        "id": "Rf6mCv10-aAG",
        "colab": {
          "base_uri": "https://localhost:8080/"
        },
        "outputId": "3cbddb6a-de14-4be9-9215-36fa206cb0e6"
      },
      "source": [
        "albums_file = open('hit_albums.csv', 'r')\n",
        "line1 = albums_file.readline();\n",
        "print(line1)"
      ],
      "execution_count": null,
      "outputs": [
        {
          "output_type": "stream",
          "name": "stdout",
          "text": [
            "Artist,Album,Released,Genre,\"Certified sales (millions)\",Claimed sales (millions)\n",
            "\n"
          ]
        }
      ]
    },
    {
      "cell_type": "markdown",
      "metadata": {
        "id": "ocfNVfMX-aAJ"
      },
      "source": [
        "We could now [`split()`](https://docs.python.org/3/library/stdtypes.html#str.split) the string based on the comma, to create a simple CSV parser:"
      ]
    },
    {
      "cell_type": "code",
      "metadata": {
        "id": "gcxx4Ai8-aAK",
        "colab": {
          "base_uri": "https://localhost:8080/"
        },
        "outputId": "72076976-4d3a-4e5d-bb0b-5cf0d6d59a47"
      },
      "source": [
        "line1.split(\",\")"
      ],
      "execution_count": null,
      "outputs": [
        {
          "output_type": "execute_result",
          "data": {
            "text/plain": [
              "['Artist',\n",
              " 'Album',\n",
              " 'Released',\n",
              " 'Genre',\n",
              " '\"Certified sales (millions)\"',\n",
              " 'Claimed sales (millions)\\n']"
            ]
          },
          "metadata": {},
          "execution_count": 8
        }
      ]
    },
    {
      "cell_type": "markdown",
      "metadata": {
        "id": "VVR7pDNJ-aAN"
      },
      "source": [
        "We can loop over the file and read the data into an array:"
      ]
    },
    {
      "cell_type": "code",
      "metadata": {
        "id": "6QJeWITB-aAN"
      },
      "source": [
        "data = []\n",
        "for line in albums_file:\n",
        "    data.append(line.split(\",\"))\n",
        "\n",
        "# let's not forget to close the file:\n",
        "albums_file.close()\n",
        "data"
      ],
      "execution_count": null,
      "outputs": []
    },
    {
      "cell_type": "markdown",
      "metadata": {
        "id": "AG19dqHd-aAT"
      },
      "source": [
        "We can now read individual cells or rows:"
      ]
    },
    {
      "cell_type": "code",
      "metadata": {
        "id": "oO1o6Zqj-aAU"
      },
      "source": [
        "data[0]"
      ],
      "execution_count": null,
      "outputs": []
    },
    {
      "cell_type": "code",
      "metadata": {
        "id": "mI5v3OY7-aAW"
      },
      "source": [
        "data[0][1]"
      ],
      "execution_count": null,
      "outputs": []
    },
    {
      "cell_type": "markdown",
      "metadata": {
        "id": "XrD3jbW8-aAY"
      },
      "source": [
        "As we can see, this didn't take proper care of our double-quote escape of \"Pop, rock, R&B\". Also, numbers are still treated as strings and the newline character is also appended to the last cell.\n",
        "\n",
        "We could certainly improve our parser to handle these issues, but fortunately, there are existing methods to parse CSV files that make this easier.\n",
        "\n",
        "### Writing\n",
        "\n",
        "We can write by opening a file using the `w` flag. Here we also use the [`with`](https://docs.python.org/3/reference/compound_stmts.html#the-with-statement) keyword, which also takes care of closing the file for us, even if things go wrong (see [this blog post](https://jeffknupp.com/blog/2016/03/07/python-with-context-managers/) for details):"
      ]
    },
    {
      "cell_type": "code",
      "metadata": {
        "id": "nnwRv94c-aAZ"
      },
      "source": [
        "with open('my_file.txt', 'w') as new_file:\n",
        "    new_file.write(\"Hello World\\nAre you still spinning?\\n\")"
      ],
      "execution_count": null,
      "outputs": []
    },
    {
      "cell_type": "markdown",
      "metadata": {
        "id": "ZV5-X7Cl-aAa"
      },
      "source": [
        "Notice that the file is only guaranteed to be written if you actually close it (which, here, is taken care of by the context manager invoked by the with statement).\n",
        "\n",
        "You can find more examples on basic file operations in the [Python Documentation](https://docs.python.org/3/tutorial/inputoutput.html)."
      ]
    },
    {
      "cell_type": "markdown",
      "metadata": {
        "id": "2TtQ3h2Y-aAb"
      },
      "source": [
        "## Exercise 1: Reading and Writing Data\n",
        "\n",
        "The file [grades.csv](https://www.dropbox.com/s/qhbzh1tmxl6mg9o/grades.csv?dl=0) is a file with student names and letter grades:\n",
        "\n",
        "```\n",
        "Alice; A\n",
        "Bob; B\n",
        "Robert; A\n",
        "Richard; C\n",
        "```\n",
        "\n",
        "Read the file into an array. Add a GPA to the student's row (A=4,B=3,C=2,D=1).\n",
        "\n",
        "Hint: the function [strip()](https://docs.python.org/3/library/stdtypes.html#str.strip) removes trailing whitespace from a string.\n",
        "\n",
        "Write that file into a new file `grades_gpa.csv`\n",
        "\n",
        "But first, let's load the file into your Colab environment."
      ]
    },
    {
      "cell_type": "code",
      "metadata": {
        "id": "wJgfcKzHKfVS"
      },
      "source": [
        "!curl -L 'https://www.dropbox.com/s/qhbzh1tmxl6mg9o/grades.csv?dl=0' > 'grades.csv'"
      ],
      "execution_count": null,
      "outputs": []
    },
    {
      "cell_type": "code",
      "metadata": {
        "id": "Lo6oD9zb-aAb"
      },
      "source": [
        "gpas = {\"A\":4, \"B\":3, \"C\":2, \"D\":1}\n",
        "\n",
        "data = []\n",
        "# continue here"
      ],
      "execution_count": null,
      "outputs": []
    },
    {
      "cell_type": "markdown",
      "source": [
        "**Take a poll here**: [poll2](https://PollEv.com​/marinakogan791)"
      ],
      "metadata": {
        "id": "iMF3kLenpH8J"
      }
    },
    {
      "cell_type": "markdown",
      "metadata": {
        "id": "J5Hzf_au-aAd"
      },
      "source": [
        "## Reading a CSV file with the CSV Library\n",
        "\n",
        "We can use the CSV library to help with reading the data. It takes a `delimiter` and a `quotechar`, the latter is useful for our double quotes:"
      ]
    },
    {
      "cell_type": "code",
      "metadata": {
        "id": "jOofnGaJ-aAd"
      },
      "source": [
        "# import the csv library\n",
        "import csv\n",
        "\n",
        "# initialize the top-level array\n",
        "data_values = []\n",
        "\n",
        "# open the file and append rows as arrays to the data_values\n",
        "with open('hit_albums.csv') as csvfile:\n",
        "    # note that we can interchangably use ' and \" in general\n",
        "    # for the quotechar, however we use ' so that we can use \" without escaping\n",
        "    filereader = csv.reader(csvfile, delimiter=',', quotechar='\"')\n",
        "    # the row here is an array\n",
        "    for row in filereader:\n",
        "        print(\"Row: \" + str(row))\n",
        "        data_values.append(row)\n",
        "\n",
        "# Store the header in a separate array\n",
        "header = data_values.pop(0)\n",
        "\n",
        "print()\n",
        "print(header)\n",
        "print()\n",
        "print(data_values)"
      ],
      "execution_count": null,
      "outputs": []
    },
    {
      "cell_type": "markdown",
      "metadata": {
        "id": "uQwyDale-aAf"
      },
      "source": [
        "To do computation on the numerical dimensions of this table, we need to also convert the strings to numbers. Here, the last column, `Claimed sales (millions)` doesn't have values for each row. In that case, the conversion throws a `ValueError` exception. [Exceptions](https://docs.python.org/3/reference/compound_stmts.html#try) are error states that can be raised and caught:"
      ]
    },
    {
      "cell_type": "code",
      "metadata": {
        "id": "FnfG7Yrb-aAg"
      },
      "source": [
        "for row in data_values:\n",
        "    row[2] = int(row[2])\n",
        "    row[4] = float(row[4])\n",
        "    # need to try and catch the exception because the column contains NaN values\n",
        "    try:\n",
        "        row[5] = float(row[5])\n",
        "    except ValueError:\n",
        "        row[5] = None\n",
        "\n",
        "data_values"
      ],
      "execution_count": null,
      "outputs": []
    },
    {
      "cell_type": "markdown",
      "metadata": {
        "id": "woE9ioHi-aAh"
      },
      "source": [
        "So, here we have matrix that we could work with. In reality, we probably would want to structure the data a little differently - instead of treating each row as an array, we'd want to treat each dimension (column) as an array, as this makes the column homogeneous and it makes it easy to calculate means, etc."
      ]
    },
    {
      "cell_type": "markdown",
      "metadata": {
        "id": "UZK3FqIK-aAi"
      },
      "source": [
        "## Reading CSV with Pandas\n",
        "\n",
        "Now, let's take a look at what it takes to read this file using pandas."
      ]
    },
    {
      "cell_type": "code",
      "metadata": {
        "scrolled": true,
        "id": "Xqg7cT9L-aAi"
      },
      "source": [
        "import pandas as pd\n",
        "hit_albums = pd.read_csv(\"hit_albums.csv\")\n",
        "hit_albums"
      ],
      "execution_count": null,
      "outputs": []
    },
    {
      "cell_type": "markdown",
      "metadata": {
        "id": "zoWgCHfM-aAk"
      },
      "source": [
        "Well, that was different!\n",
        "\n",
        "Pandas provides the insanely powerful ['read_csv()'](http://pandas.pydata.org/pandas-docs/stable/generated/pandas.read_csv.html) method - also see [this](http://pandas.pydata.org/pandas-docs/stable/io.html) for more info on all I/O operations in pandas, including writing CSV files.\n",
        "\n",
        "You can pass a lot of arguments to the method, such as delimiter, quote-chars, etc., but for our case the default parameters just worked.\n",
        "\n",
        "We've also just created our first data frame! Let's look at data frames in detail next."
      ]
    },
    {
      "cell_type": "markdown",
      "metadata": {
        "id": "OrfmgVau-aAk"
      },
      "source": [
        "# 2. Data Frames\n",
        "\n",
        "A data frame is a column-oriented data structure where each column is a pandas series.\n",
        "\n",
        "We've already loaded a data frame from file, but for completeness sake, let's create one in code:"
      ]
    },
    {
      "cell_type": "code",
      "metadata": {
        "id": "GNMHo-dy-aAl"
      },
      "source": [
        "bandInfo = pd.DataFrame({\n",
        "        \"Name\":[\"Led Zeppelin\", \"The Beatles\", \"Rolling Stones\", \"Radiohead\"],\n",
        "        \"No Members\":[4, 4, 4, 5],\n",
        "        \"No Albums\":[9, 12, 29 ,9]\n",
        "    })\n",
        "bandInfo\n"
      ],
      "execution_count": null,
      "outputs": []
    },
    {
      "cell_type": "markdown",
      "metadata": {
        "id": "3nzus3sG-aAo"
      },
      "source": [
        "This dataframe was initialized with a dictonary of column headers as keys and column data as values."
      ]
    },
    {
      "cell_type": "markdown",
      "metadata": {
        "id": "hOPDHGSg-aAp"
      },
      "source": [
        "Just as a series, a data frame has an index, which corresponds to the first column here. In this case the index was automatically generated, but as for the series, we could use explicit values for the index.\n",
        "\n",
        "We can access columns in a data frame, which returns a series:"
      ]
    },
    {
      "cell_type": "code",
      "metadata": {
        "id": "hl1YnNdg-aAq"
      },
      "source": [
        "bandInfo[\"Name\"]"
      ],
      "execution_count": null,
      "outputs": []
    },
    {
      "cell_type": "code",
      "metadata": {
        "id": "v5N7j-Mt-aAu"
      },
      "source": [
        "bandInfo.Name"
      ],
      "execution_count": null,
      "outputs": []
    },
    {
      "cell_type": "markdown",
      "metadata": {
        "id": "bppmTTSx-aAw"
      },
      "source": [
        "And obviously, we can do all the things we've learned about to this column/series."
      ]
    },
    {
      "cell_type": "markdown",
      "metadata": {
        "id": "DKUcpXr8-aAw"
      },
      "source": [
        "The previous example used columns to create the data frame. We can also create a data frame from rows. This doesn't make a ton of sense in this example, but you could find the data coming out of a data source, like our CSV file, in that order."
      ]
    },
    {
      "cell_type": "code",
      "metadata": {
        "id": "xDIWM6iu-aAw"
      },
      "source": [
        "bandInfo2 = pd.DataFrame([\n",
        "        {\"Name\":\"Led Zeppelin\", \"No Albums\":9, \"No Members\":4},\n",
        "        {\"Name\":\"The Beatles\", \"No Albums\":12, \"No Members\":4},\n",
        "        {\"Name\":\"Rolling Stones\", \"No Albums\":29, \"No Members\":4},\n",
        "        {\"Name\":\"Radiohead\", \"No Albums\":9, \"No Members\":5},\n",
        "    ])\n",
        "bandInfo2"
      ],
      "execution_count": null,
      "outputs": []
    },
    {
      "cell_type": "markdown",
      "metadata": {
        "id": "GbZowoUG-aAy"
      },
      "source": [
        "While a series has only one axis, a dataframe has two, one for the rows (the index or '0' axis), one for the columns (the column or '1' axis). We can check out these axes:"
      ]
    },
    {
      "cell_type": "code",
      "metadata": {
        "id": "fvhhalWp-aA1"
      },
      "source": [
        "# The row axis\n",
        "bandInfo.axes[0]"
      ],
      "execution_count": null,
      "outputs": []
    },
    {
      "cell_type": "code",
      "metadata": {
        "id": "e54V5j8h-aA4"
      },
      "source": [
        "# The columns axis\n",
        "bandInfo.axes[1]"
      ],
      "execution_count": null,
      "outputs": []
    },
    {
      "cell_type": "markdown",
      "metadata": {
        "id": "y0v3KT8_-aA7"
      },
      "source": [
        "## Exploring Data Frames\n",
        "\n",
        "You might have noticed that data frames are rendered in nice HTML tables within Jupyter Notebooks. For small data frames, just showing all the data makes sense, but for larger datasets, like our `hit_albums` dataset, plotting 70+ rows can be annoying, and for datasets with hundreds or thousands of rows it can be prohibitive. By default, a data frame only prints a limited number of elements (notice the `...` in row 30 of the output of `hit_albums` above — only the first 30 and last 30 are printed.\n",
        "\n",
        "When working with data, e.g., when transforming or loading a dataset, it is important to see the raw data, for example, to check if a transformation was done correctly. Often, however, it's sufficient to see a part of the data, e.g., the first couple of rows and/or the last couple of rows. We can do this with the `head()` and `tail()` function:\n"
      ]
    },
    {
      "cell_type": "code",
      "metadata": {
        "id": "bMHFqbaH-aA7"
      },
      "source": [
        "# head shows the first 5 rows of a datset\n",
        "hit_albums.head()"
      ],
      "execution_count": null,
      "outputs": []
    },
    {
      "cell_type": "code",
      "metadata": {
        "id": "jB6PVJBg-aA-"
      },
      "source": [
        "# we can specify how much to show\n",
        "hit_albums.head(12)"
      ],
      "execution_count": null,
      "outputs": []
    },
    {
      "cell_type": "code",
      "metadata": {
        "id": "FZw6hl_o-aA_"
      },
      "source": [
        "# tail shows the last five rows in a datasaet\n",
        "hit_albums.tail(7)"
      ],
      "execution_count": null,
      "outputs": []
    },
    {
      "cell_type": "markdown",
      "metadata": {
        "id": "vTlRYe-v-aBB"
      },
      "source": [
        "We can check out the dimensions of the data frame:"
      ]
    },
    {
      "cell_type": "code",
      "metadata": {
        "id": "3GTKF6DG-aBB"
      },
      "source": [
        "hit_albums.shape"
      ],
      "execution_count": null,
      "outputs": []
    },
    {
      "cell_type": "markdown",
      "metadata": {
        "id": "QGQ6twlW-aBD"
      },
      "source": [
        "Here we learn that our dataset has 77 rows and 6 columns.\n",
        "\n",
        "We can also get more info about the dataset using the info method, which is especially helpful to see the data types of the columns:"
      ]
    },
    {
      "cell_type": "code",
      "metadata": {
        "id": "iulhDq4f-aBE"
      },
      "source": [
        "hit_albums.info()"
      ],
      "execution_count": null,
      "outputs": []
    },
    {
      "cell_type": "markdown",
      "metadata": {
        "id": "AiskudYE-aBF"
      },
      "source": [
        "As for series, we can get a rough description of the numerical values of the dataset."
      ]
    },
    {
      "cell_type": "code",
      "metadata": {
        "id": "U38vLkRG-aBF"
      },
      "source": [
        "hit_albums.describe()"
      ],
      "execution_count": null,
      "outputs": []
    },
    {
      "cell_type": "markdown",
      "metadata": {
        "id": "aEbXu72u-aBH"
      },
      "source": [
        "We don't see any descriptions of the columns of non-numerical type. We can, however, get a summary by directly accessing a column:"
      ]
    },
    {
      "cell_type": "code",
      "metadata": {
        "id": "MrUuMiz3-aBH"
      },
      "source": [
        "hit_albums[\"Artist\"].describe()"
      ],
      "execution_count": null,
      "outputs": []
    },
    {
      "cell_type": "markdown",
      "metadata": {
        "id": "Y2ISt_qq-aBI"
      },
      "source": [
        "Here we can see that Michael Jackson is the top artist in this list, with five albums. Are there other artists with multiple albums in the list? We can answer that question with the value_counts() method:"
      ]
    },
    {
      "cell_type": "code",
      "metadata": {
        "id": "OfZly_b4-aBJ"
      },
      "source": [
        "hit_albums.Artist.value_counts()"
      ],
      "execution_count": null,
      "outputs": []
    },
    {
      "cell_type": "markdown",
      "metadata": {
        "id": "_d67S5Ie-aBK"
      },
      "source": [
        "We can look at whether the numerical columns in our data frame are correlated using the [`corr()`](http://pandas.pydata.org/pandas-docs/stable/generated/pandas.DataFrame.corr.html) method. By default, this calculates a Pearson correlation between the columns, excluding NaN values. Not surprisingly, we see a rather strong correlation (0.81) between certified and claimed sales."
      ]
    },
    {
      "cell_type": "code",
      "metadata": {
        "id": "Mo7n3oBa-aBL"
      },
      "source": [
        "hit_albums.corr()"
      ],
      "execution_count": null,
      "outputs": []
    },
    {
      "cell_type": "markdown",
      "metadata": {
        "id": "MqCAY9xe-aBP"
      },
      "source": [
        "We can also transpose a dataframe:"
      ]
    },
    {
      "cell_type": "code",
      "metadata": {
        "id": "IDN1wVRO-aBP"
      },
      "source": [
        "hit_albums.T"
      ],
      "execution_count": null,
      "outputs": []
    },
    {
      "cell_type": "markdown",
      "metadata": {
        "id": "J0lyj-Q6-aBR"
      },
      "source": [
        "### Slicing Data Frames\n",
        "\n",
        "A common task is to create subsets of a dataframe.\n",
        "\n",
        "We can explicitly define the columns we want by their lables:"
      ]
    },
    {
      "cell_type": "code",
      "metadata": {
        "id": "LX0SoZpg-aBR"
      },
      "source": [
        "# we only need to keep the columns we care about\n",
        "hit_albums = hit_albums[[\"Artist\",\"Certified sales (millions)\", \"Claimed sales (millions)\"]]\n",
        "hit_albums.head()"
      ],
      "execution_count": null,
      "outputs": []
    },
    {
      "cell_type": "markdown",
      "metadata": {
        "id": "mspbPK-3-aBT"
      },
      "source": [
        "We can also set a column to be the index:"
      ]
    },
    {
      "cell_type": "code",
      "metadata": {
        "id": "g4gdr_zm-aBT"
      },
      "source": [
        "hit_albums_reindexed = hit_albums.set_index(\"Artist\")\n",
        "hit_albums_reindexed.head()"
      ],
      "execution_count": null,
      "outputs": []
    },
    {
      "cell_type": "markdown",
      "metadata": {
        "id": "XCNbYl4i-aBV"
      },
      "source": [
        "Using these access methods we can also update the order:"
      ]
    },
    {
      "cell_type": "code",
      "metadata": {
        "id": "KBwst7th-aBW"
      },
      "source": [
        "hit_albums[[\"Certified sales (millions)\", \"Artist\"]].head()"
      ],
      "execution_count": null,
      "outputs": []
    },
    {
      "cell_type": "markdown",
      "metadata": {
        "id": "PmBLd_9T-aBX"
      },
      "source": [
        "We can retrieve rows using the `loc` indexer by name. Note that this doesn't work if we use duplicates as indexers."
      ]
    },
    {
      "cell_type": "code",
      "metadata": {
        "id": "iSRs-Y15-aBb"
      },
      "source": [
        "hit_albums_reindexed.loc[\"AC/DC\":\"Meat Loaf\"]"
      ],
      "execution_count": null,
      "outputs": []
    },
    {
      "cell_type": "markdown",
      "metadata": {
        "id": "huPDqS-e-aBd"
      },
      "source": [
        "This can also be combined with slicing columns:"
      ]
    },
    {
      "cell_type": "code",
      "metadata": {
        "id": "c02mywPr-aBe"
      },
      "source": [
        "hit_albums_reindexed.loc[\"AC/DC\":\"Meat Loaf\", [\"Certified sales (millions)\"]]"
      ],
      "execution_count": null,
      "outputs": []
    },
    {
      "cell_type": "markdown",
      "metadata": {
        "id": "uZ6LuOe7-aBh"
      },
      "source": [
        "Here is the same thing using `iloc`, i.e., index based slicing:"
      ]
    },
    {
      "cell_type": "code",
      "metadata": {
        "id": "ofDgvMDj-aBh"
      },
      "source": [
        "hit_albums_reindexed.iloc[1:5,[0]]"
      ],
      "execution_count": null,
      "outputs": []
    },
    {
      "cell_type": "markdown",
      "metadata": {
        "id": "U23E-B9e-aB2"
      },
      "source": [
        "###**Exercise 2: Data Frames**\n",
        "\n",
        "* Calculate the mean certified sales for all albums.\n",
        "* Create a new dataframe that only contains albums with more than 20 million certified sales."
      ]
    },
    {
      "cell_type": "code",
      "source": [],
      "metadata": {
        "id": "7BhDsfR1fm2n"
      },
      "execution_count": null,
      "outputs": []
    },
    {
      "cell_type": "markdown",
      "source": [
        "**Take a poll here**: [poll3](https://PollEv.com​/marinakogan791)"
      ],
      "metadata": {
        "id": "wFyjfSGItO40"
      }
    },
    {
      "cell_type": "markdown",
      "metadata": {
        "id": "gTCUjNNQ-aB5"
      },
      "source": [
        "## Buit-in Plotting\n",
        "\n",
        "Dataframes have built-in plotting capabilities based on the [matplotlib](http://matplotlib.org/) library. We'll see more about plotting later --- here we'll only use the buit-in capabilities of pandas.\n",
        "\n",
        "First, we have to import the matplotlib library, and tell Jupyter to display the images directly here:"
      ]
    },
    {
      "cell_type": "code",
      "metadata": {
        "id": "Ad-FNAdO-aB6"
      },
      "source": [
        "import matplotlib\n",
        "import matplotlib.pyplot as plt\n",
        "plt.style.use('ggplot')\n",
        "# This next line tells jupyter to render the images inline\n",
        "%matplotlib inline"
      ],
      "execution_count": null,
      "outputs": []
    },
    {
      "cell_type": "markdown",
      "metadata": {
        "id": "rhD0zrqR-aB8"
      },
      "source": [
        "Then we can simply call the plot attribute:"
      ]
    },
    {
      "cell_type": "code",
      "metadata": {
        "id": "_367NuT8-aB8"
      },
      "source": [
        "hit_albums.plot()"
      ],
      "execution_count": null,
      "outputs": []
    },
    {
      "cell_type": "markdown",
      "metadata": {
        "id": "-J7WOQTZ-aB-"
      },
      "source": [
        "We can also selected certain columns using labelled indexes and then plot."
      ]
    },
    {
      "cell_type": "code",
      "metadata": {
        "id": "-r1zUsOl-aB_"
      },
      "source": [
        "hit_albums[[\"Certified sales (millions)\", \"Claimed sales (millions)\"]].plot()"
      ],
      "execution_count": null,
      "outputs": []
    },
    {
      "cell_type": "markdown",
      "metadata": {
        "id": "Jz0Quqnh-aCB"
      },
      "source": [
        "We can also use bar-charts instead of line-charts:"
      ]
    },
    {
      "cell_type": "code",
      "metadata": {
        "id": "7yWT36iY-aCC"
      },
      "source": [
        "hit_albums[[\"Certified sales (millions)\", \"Claimed sales (millions)\"]].plot(kind=\"bar\")"
      ],
      "execution_count": null,
      "outputs": []
    },
    {
      "cell_type": "markdown",
      "metadata": {
        "id": "TQoVjWuw-aCE"
      },
      "source": [
        "The default is a line chart. This doesn't make much sense, since it's mixing index of the row with sales. We're better off plotting only the two different sales figures.\n",
        "\n",
        "A better way to compare certified and claimed sales is a scatterplot:"
      ]
    },
    {
      "cell_type": "code",
      "metadata": {
        "id": "wJUhHPR0-aCE"
      },
      "source": [
        "hit_albums.plot.scatter(x=\"Certified sales (millions)\", y=\"Claimed sales (millions)\")"
      ],
      "execution_count": null,
      "outputs": []
    },
    {
      "cell_type": "code",
      "source": [],
      "metadata": {
        "id": "vfYekbAoR2kY"
      },
      "execution_count": null,
      "outputs": []
    }
  ]
}