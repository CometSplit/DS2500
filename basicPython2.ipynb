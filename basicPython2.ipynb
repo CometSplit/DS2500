{
  "nbformat": 4,
  "nbformat_minor": 0,
  "metadata": {
    "anaconda-cloud": {},
    "kernelspec": {
      "display_name": "Python 3",
      "language": "python",
      "name": "python3"
    },
    "language_info": {
      "codemirror_mode": {
        "name": "ipython",
        "version": 3
      },
      "file_extension": ".py",
      "mimetype": "text/x-python",
      "name": "python",
      "nbconvert_exporter": "python",
      "pygments_lexer": "ipython3",
      "version": "3.7.2"
    },
    "nbpresent": {
      "slides": {
        "19a6495f-8346-4b23-a98a-c7115941e8f0": {
          "id": "19a6495f-8346-4b23-a98a-c7115941e8f0",
          "prev": null,
          "regions": {
            "d6523b36-7204-4001-8a6c-37c431b18d26": {
              "attrs": {
                "height": 1,
                "width": 1,
                "x": 0,
                "y": 0
              },
              "id": "d6523b36-7204-4001-8a6c-37c431b18d26"
            }
          }
        }
      },
      "themes": {}
    },
    "colab": {
      "provenance": [],
      "include_colab_link": true
    }
  },
  "cells": [
    {
      "cell_type": "markdown",
      "metadata": {
        "id": "view-in-github",
        "colab_type": "text"
      },
      "source": [
        "<a href=\"https://colab.research.google.com/github/CometSplit/DS2500/blob/main/basicPython2.ipynb\" target=\"_parent\"><img src=\"https://colab.research.google.com/assets/colab-badge.svg\" alt=\"Open In Colab\"/></a>"
      ]
    },
    {
      "cell_type": "markdown",
      "metadata": {
        "nbpresent": {
          "id": "50a40f10-f4b6-4dd3-b7aa-c63ed3ca3244"
        },
        "id": "NEOEefYs4XEb"
      },
      "source": [
        "DS 2500: Notebook 0-2\n",
        "\n",
        "Basic Python\n",
        "\n",
        "Prof. Marina Kogan\n",
        "\n",
        "based in part on materials by Prof. Alex Lex"
      ]
    },
    {
      "cell_type": "markdown",
      "metadata": {
        "id": "N3w4Xw8i4XEf"
      },
      "source": [
        "In this lecture we'll continue to see what Python can do and learn more about data types, operators, conditions, basic data structures, and loops.\n",
        "\n",
        "Here is a nice [Python Cheat Sheet](https://drive.google.com/open?id=0ByIrJAE4KMTtWGZmQXBPai1NQWM) that is also printable."
      ]
    },
    {
      "cell_type": "markdown",
      "metadata": {
        "id": "1yVFosYx4XEh"
      },
      "source": [
        "## 1. More on Data Types and Operators"
      ]
    },
    {
      "cell_type": "markdown",
      "metadata": {
        "id": "VxmUYzbB4XEi"
      },
      "source": [
        "\n",
        "\n",
        "Make sure to check out the [complete documentation of standard types and operations](https://docs.python.org/3/library/stdtypes.html)."
      ]
    },
    {
      "cell_type": "markdown",
      "metadata": {
        "nbpresent": {
          "id": "ebf3f5fa-8048-40a8-94e7-736400e9cc20"
        },
        "id": "UkYSNLH14XEi"
      },
      "source": [
        "### Boolean"
      ]
    },
    {
      "cell_type": "markdown",
      "metadata": {
        "id": "pTc4XSkx4XEj"
      },
      "source": [
        "Boolean values represent truth values `True` and `False`. Booleans can be used as any other variable:"
      ]
    },
    {
      "cell_type": "code",
      "metadata": {
        "nbpresent": {
          "id": "40fdf1d0-a023-49e9-9bc9-b3f72e763206"
        },
        "id": "AUSH5DpB4XEk",
        "colab": {
          "base_uri": "https://localhost:8080/"
        },
        "outputId": "84cbddd1-99f8-419e-e9bf-6c2abfd596ec"
      },
      "source": [
        "my_true_var = True\n",
        "print (my_true_var)\n",
        "my_false_var = False\n",
        "print (my_false_var)"
      ],
      "execution_count": null,
      "outputs": [
        {
          "output_type": "stream",
          "name": "stdout",
          "text": [
            "True\n",
            "False\n"
          ]
        }
      ]
    },
    {
      "cell_type": "markdown",
      "metadata": {
        "nbpresent": {
          "id": "124e29d2-fb62-4dc7-9e02-d99e1e8d8c42"
        },
        "id": "2y8DNwqb4XEo"
      },
      "source": [
        "`True` and `False` are reserved keywords in their capitalized form.\n",
        "\n",
        "There are three operations defined on booleans: and, or, and not.\n",
        "\n",
        "| Operation | Result |\n",
        "|------|------|\n",
        "| `x or y`\t| if x is false, then y, else x  |\n",
        "| `x and y`\t| if x is false, then x, else y  |\n",
        "| `not x`\t    | if x is false, then True, else False  |\n",
        "\n",
        "\n"
      ]
    },
    {
      "cell_type": "code",
      "metadata": {
        "nbpresent": {
          "id": "a0ca3b1d-9f50-45d0-8acd-35e23ec0437f"
        },
        "id": "sFyx6_0v4XEo",
        "colab": {
          "base_uri": "https://localhost:8080/"
        },
        "outputId": "2cb301d2-e95f-4439-c811-bc8709ef11f5"
      },
      "source": [
        "True or False"
      ],
      "execution_count": null,
      "outputs": [
        {
          "output_type": "execute_result",
          "data": {
            "text/plain": [
              "True"
            ]
          },
          "metadata": {},
          "execution_count": 2
        }
      ]
    },
    {
      "cell_type": "code",
      "metadata": {
        "nbpresent": {
          "id": "689ab980-9dec-40f0-861b-8c5b6fe18cb9"
        },
        "id": "xZlhxOG34XEq",
        "colab": {
          "base_uri": "https://localhost:8080/"
        },
        "outputId": "5f9d7476-26b5-43d2-b12f-1ac1e855bbe1"
      },
      "source": [
        "True and False"
      ],
      "execution_count": null,
      "outputs": [
        {
          "output_type": "execute_result",
          "data": {
            "text/plain": [
              "False"
            ]
          },
          "metadata": {},
          "execution_count": 3
        }
      ]
    },
    {
      "cell_type": "code",
      "metadata": {
        "nbpresent": {
          "id": "dcf1f3a9-f3eb-4e0c-8004-13352233f005"
        },
        "id": "5iyXBArc4XEs",
        "colab": {
          "base_uri": "https://localhost:8080/"
        },
        "outputId": "c5069844-6c46-4287-956a-346439b86cf8"
      },
      "source": [
        "not True"
      ],
      "execution_count": null,
      "outputs": [
        {
          "output_type": "execute_result",
          "data": {
            "text/plain": [
              "False"
            ]
          },
          "metadata": {},
          "execution_count": 4
        }
      ]
    },
    {
      "cell_type": "code",
      "metadata": {
        "nbpresent": {
          "id": "c9a69e9a-fb15-4634-9ab8-ee6f66e28099"
        },
        "id": "Yyn2aXM74XEu",
        "colab": {
          "base_uri": "https://localhost:8080/"
        },
        "outputId": "6ad7d5a6-0380-41f6-8ac8-df3d49ea7a42"
      },
      "source": [
        "not False"
      ],
      "execution_count": null,
      "outputs": [
        {
          "output_type": "execute_result",
          "data": {
            "text/plain": [
              "True"
            ]
          },
          "metadata": {},
          "execution_count": 5
        }
      ]
    },
    {
      "cell_type": "markdown",
      "metadata": {
        "nbpresent": {
          "id": "a7db497d-427e-40e0-80e0-8f13c131bf79"
        },
        "id": "43GK0htv4XEw"
      },
      "source": [
        "#### Comparisons"
      ]
    },
    {
      "cell_type": "markdown",
      "metadata": {
        "id": "_vv4c3XD4XEx"
      },
      "source": [
        "Comparisons are very important in programming: they let us decide on conditional flows, which we will discuss later. To compare two entities, Python provides eight comparison operators:\n",
        "\n",
        "\n",
        "| Operation\t| Meaning\n",
        "| - | - |\n",
        "| <\t| strictly less than\n",
        "|<=\t| less than or equal\n",
        "|> |\tstrictly greater than\n",
        "|>= |\tgreater than or equal\n",
        "|==\t |equal\n",
        "|!= |\tnot equal\n",
        "|is\t| object identity\n",
        "|is  not |\tnegated object identity\n",
        "\n",
        "These operators take two operands and return a boolean. We'll glance over the last two for now, but here are some examples of the others:"
      ]
    },
    {
      "cell_type": "code",
      "metadata": {
        "nbpresent": {
          "id": "8e62dd34-888f-432a-987e-573aae66cf6a"
        },
        "id": "avP-cG-_4XEy",
        "colab": {
          "base_uri": "https://localhost:8080/"
        },
        "outputId": "c862db08-16af-4859-fde8-7a8c3c02ba33"
      },
      "source": [
        "1 < 2"
      ],
      "execution_count": null,
      "outputs": [
        {
          "output_type": "execute_result",
          "data": {
            "text/plain": [
              "True"
            ]
          },
          "metadata": {},
          "execution_count": 6
        }
      ]
    },
    {
      "cell_type": "code",
      "metadata": {
        "nbpresent": {
          "id": "50d05a38-e8e0-4ee0-9905-b461fead8b38"
        },
        "id": "cJc1MKV14XE1",
        "colab": {
          "base_uri": "https://localhost:8080/"
        },
        "outputId": "2c92f7b3-b369-4ae6-da36-786e84b3ddfb"
      },
      "source": [
        "1 <= 1"
      ],
      "execution_count": null,
      "outputs": [
        {
          "output_type": "execute_result",
          "data": {
            "text/plain": [
              "True"
            ]
          },
          "metadata": {},
          "execution_count": 7
        }
      ]
    },
    {
      "cell_type": "code",
      "metadata": {
        "nbpresent": {
          "id": "2900a5bb-46f3-4a98-8315-4fae902c2ecf"
        },
        "id": "PrPkyT_S4XE3",
        "colab": {
          "base_uri": "https://localhost:8080/"
        },
        "outputId": "c8b93a29-95c0-4d23-a849-e45f8cafef87"
      },
      "source": [
        "14 == 14"
      ],
      "execution_count": null,
      "outputs": [
        {
          "output_type": "execute_result",
          "data": {
            "text/plain": [
              "True"
            ]
          },
          "metadata": {},
          "execution_count": 8
        }
      ]
    },
    {
      "cell_type": "code",
      "metadata": {
        "nbpresent": {
          "id": "f27ff159-2993-4c0d-a548-5f682dc33acb"
        },
        "id": "a4hXN3kL4XE4",
        "colab": {
          "base_uri": "https://localhost:8080/"
        },
        "outputId": "53a7bb0e-1298-401a-dd69-667954ea87fb"
      },
      "source": [
        "14 != 14"
      ],
      "execution_count": null,
      "outputs": [
        {
          "output_type": "execute_result",
          "data": {
            "text/plain": [
              "False"
            ]
          },
          "metadata": {},
          "execution_count": 9
        }
      ]
    },
    {
      "cell_type": "code",
      "metadata": {
        "nbpresent": {
          "id": "16ed88cc-2c1b-4d3c-b15c-61130d31207e"
        },
        "id": "wTKEIYy54XE6",
        "colab": {
          "base_uri": "https://localhost:8080/"
        },
        "outputId": "28ac1d24-be13-4146-ae64-cc1643e20711"
      },
      "source": [
        "\"my text\" == \"my text\""
      ],
      "execution_count": null,
      "outputs": [
        {
          "output_type": "execute_result",
          "data": {
            "text/plain": [
              "True"
            ]
          },
          "metadata": {},
          "execution_count": 10
        }
      ]
    },
    {
      "cell_type": "code",
      "metadata": {
        "nbpresent": {
          "id": "a679008f-c2cb-47d5-b013-682afb901a71"
        },
        "id": "JRDGcnDC4XE8",
        "colab": {
          "base_uri": "https://localhost:8080/"
        },
        "outputId": "c5c12ed6-a020-496f-9237-0a9c82f56fe9"
      },
      "source": [
        "\"my text\" == \"my other text\""
      ],
      "execution_count": null,
      "outputs": [
        {
          "output_type": "execute_result",
          "data": {
            "text/plain": [
              "False"
            ]
          },
          "metadata": {},
          "execution_count": 11
        }
      ]
    },
    {
      "cell_type": "code",
      "metadata": {
        "nbpresent": {
          "id": "2714c263-fa7f-4d6c-b0b5-20369bd76dfe"
        },
        "id": "M1OVbXvb4XE_",
        "colab": {
          "base_uri": "https://localhost:8080/"
        },
        "outputId": "3ce09d14-d1d9-4bb6-af11-bef5a14768c3"
      },
      "source": [
        "\"a\" > \"b\""
      ],
      "execution_count": null,
      "outputs": [
        {
          "output_type": "execute_result",
          "data": {
            "text/plain": [
              "False"
            ]
          },
          "metadata": {},
          "execution_count": 12
        }
      ]
    },
    {
      "cell_type": "code",
      "metadata": {
        "nbpresent": {
          "id": "c6ea5872-efcd-4aa0-ae5b-551c4db367af"
        },
        "id": "aBBMVfQ_4XFE",
        "colab": {
          "base_uri": "https://localhost:8080/"
        },
        "outputId": "bf9baaed-0f1e-4f8a-a1f5-4dc2fc13f3c3"
      },
      "source": [
        "\"a\" < \"b\""
      ],
      "execution_count": null,
      "outputs": [
        {
          "output_type": "execute_result",
          "data": {
            "text/plain": [
              "True"
            ]
          },
          "metadata": {},
          "execution_count": 13
        }
      ]
    },
    {
      "cell_type": "code",
      "metadata": {
        "id": "ZFUrWU5W4XFG",
        "colab": {
          "base_uri": "https://localhost:8080/"
        },
        "outputId": "ab32f599-1137-4b18-e2f1-a3dbe3edc5b4"
      },
      "source": [
        "\"aa\" < \"aba\""
      ],
      "execution_count": null,
      "outputs": [
        {
          "output_type": "execute_result",
          "data": {
            "text/plain": [
              "True"
            ]
          },
          "metadata": {},
          "execution_count": 14
        }
      ]
    },
    {
      "cell_type": "code",
      "metadata": {
        "id": "6jYkixi24XFI",
        "colab": {
          "base_uri": "https://localhost:8080/"
        },
        "outputId": "06527598-1efb-4b5c-955f-1e562948bead"
      },
      "source": [
        "\"aaa\" < \"aa\""
      ],
      "execution_count": null,
      "outputs": [
        {
          "output_type": "execute_result",
          "data": {
            "text/plain": [
              "False"
            ]
          },
          "metadata": {},
          "execution_count": 15
        }
      ]
    },
    {
      "cell_type": "markdown",
      "metadata": {
        "nbpresent": {
          "id": "e7dfbe89-1fa1-4c25-b4c1-d30cf1defbc2"
        },
        "id": "pfPe_p1O4XFK"
      },
      "source": [
        "We see that the operations work on numbers just as we would expect.\n",
        "\n",
        "Strings are also compared as we'd expect. The greater and less than operators use lexicographic ordering."
      ]
    },
    {
      "cell_type": "markdown",
      "metadata": {
        "nbpresent": {
          "id": "badb41c7-7830-4edf-8d82-c4c7f3caecfc"
        },
        "id": "0zJvM2T84XFL"
      },
      "source": [
        "### Numerical Data Types"
      ]
    },
    {
      "cell_type": "markdown",
      "metadata": {
        "id": "-YQao15i4XFL"
      },
      "source": [
        "Python supports three built in numerical data types, `int`, `float`, and `complex`. Since Python is dynamically typed, we don't have to define the data types explicitly!\n",
        "\n",
        "The **int** data type is used to represent integers $\\mathbb{Z}$. Python is special in the way it handles integers as it allows arbitrarily large integers, while most other programming languages reserve a certain chunk of memory for integers, which can lead to a number \"overflowing\". This, for example, would not work properly in C or Java:"
      ]
    },
    {
      "cell_type": "code",
      "metadata": {
        "nbpresent": {
          "id": "bfaf1719-3b17-4980-90e1-2e74355dc190"
        },
        "scrolled": true,
        "id": "b3WCXmO24XFM",
        "colab": {
          "base_uri": "https://localhost:8080/"
        },
        "outputId": "ce516751-1322-47df-f00f-339a6fed2383"
      },
      "source": [
        "2 ** 200"
      ],
      "execution_count": null,
      "outputs": [
        {
          "output_type": "execute_result",
          "data": {
            "text/plain": [
              "1606938044258990275541962092341162602522202993782792835301376"
            ]
          },
          "metadata": {},
          "execution_count": 16
        }
      ]
    },
    {
      "cell_type": "markdown",
      "metadata": {
        "nbpresent": {
          "id": "68b56fd3-4fb9-46bc-b21e-40f5ed6c2080"
        },
        "id": "FJb7DfZl4XFO"
      },
      "source": [
        "However, we can still experience overflows in Python if we work with pandas, a library we will extensively use.\n",
        "\n",
        "Integers can be **positive, zero, or negative**, as you would expect."
      ]
    },
    {
      "cell_type": "markdown",
      "metadata": {
        "nbpresent": {
          "id": "6ddda0f0-4094-423e-922b-992cf56ca2b4"
        },
        "id": "GBg7GHSC4XFP"
      },
      "source": [
        "The **float** datatype is used to represent real numbers $\\mathbb{R}$. Floats, however, can not be precisely represented by a computer. Take the example of $1/3$. Representing $1/3$ accurately would require the computer to store an infinitely large number of $0.33333333333333333333....$ (if a computer used a decimal number system).\n",
        "\n",
        "Since computers use binary numbers, also seemingly simple numbers such as 0.1 cannot be accurately represented. Check out this example:"
      ]
    },
    {
      "cell_type": "code",
      "metadata": {
        "nbpresent": {
          "id": "16141b16-c33c-47f3-a9c0-3f5b6f5e8321"
        },
        "id": "chyKicsl4XFR",
        "colab": {
          "base_uri": "https://localhost:8080/"
        },
        "outputId": "5a271625-f83f-4419-caff-7b19ae49924d"
      },
      "source": [
        "0.1 + 0.1 + 0.1 == 0.3"
      ],
      "execution_count": null,
      "outputs": [
        {
          "output_type": "execute_result",
          "data": {
            "text/plain": [
              "False"
            ]
          },
          "metadata": {},
          "execution_count": 17
        }
      ]
    },
    {
      "cell_type": "code",
      "source": [
        "0.1 + 0.1 + 0.1"
      ],
      "metadata": {
        "colab": {
          "base_uri": "https://localhost:8080/"
        },
        "id": "n1e1VLOH0AKH",
        "outputId": "ddb1774c-07ac-44f3-d041-0b0a1bea4857"
      },
      "execution_count": null,
      "outputs": [
        {
          "output_type": "execute_result",
          "data": {
            "text/plain": [
              "0.30000000000000004"
            ]
          },
          "metadata": {},
          "execution_count": 18
        }
      ]
    },
    {
      "cell_type": "code",
      "metadata": {
        "nbpresent": {
          "id": "a4d29f2f-f56c-4825-a79d-0ca92f4d6637"
        },
        "id": "yrOFQOiI4XFV",
        "colab": {
          "base_uri": "https://localhost:8080/"
        },
        "outputId": "2862fbdb-e439-476c-cc52-0df2d5bcb8b5"
      },
      "source": [
        "1 / 10"
      ],
      "execution_count": null,
      "outputs": [
        {
          "output_type": "execute_result",
          "data": {
            "text/plain": [
              "0.1"
            ]
          },
          "metadata": {},
          "execution_count": 19
        }
      ]
    },
    {
      "cell_type": "markdown",
      "metadata": {
        "id": "DncurE9A4XFX"
      },
      "source": [
        "This number is in fact not 0.1 but is stored in the computer as:\n",
        "\n",
        "`0.1000000000000000055511151231257827021181583404541015625`\n",
        "\n",
        "This representation, however, is rarely useful, hence the number is rounded.\n",
        "\n",
        "The lesson that you should remember is that **you CANNOT compare two float numbers with the `==` operator**."
      ]
    },
    {
      "cell_type": "code",
      "metadata": {
        "id": "I4MjTMYU4XFX",
        "colab": {
          "base_uri": "https://localhost:8080/"
        },
        "outputId": "8dd82f69-0eb5-434c-f46e-3064500fa1d8"
      },
      "source": [
        "a = 0.1 + 0.1 + 0.1\n",
        "b = 0.3\n",
        "a == b"
      ],
      "execution_count": null,
      "outputs": [
        {
          "output_type": "execute_result",
          "data": {
            "text/plain": [
              "False"
            ]
          },
          "metadata": {},
          "execution_count": 20
        }
      ]
    },
    {
      "cell_type": "markdown",
      "metadata": {
        "nbpresent": {
          "id": "96a4045b-8ecd-4cd5-96a6-1d242e21b3e9"
        },
        "id": "kftmfIAF4XFa"
      },
      "source": [
        "Instead, you can do something like this:"
      ]
    },
    {
      "cell_type": "code",
      "metadata": {
        "nbpresent": {
          "id": "e357077d-fc73-4415-9c35-3aa66192382e"
        },
        "id": "v8HHJC9r4XFa",
        "colab": {
          "base_uri": "https://localhost:8080/"
        },
        "outputId": "9a22a04a-1138-481d-e220-6601defc2e7d"
      },
      "source": [
        "# Compare for equality up to a constant value\n",
        "a < b + 0.00001 and a > b - 0.00001"
      ],
      "execution_count": null,
      "outputs": [
        {
          "output_type": "execute_result",
          "data": {
            "text/plain": [
              "True"
            ]
          },
          "metadata": {},
          "execution_count": 21
        }
      ]
    },
    {
      "cell_type": "markdown",
      "metadata": {
        "nbpresent": {
          "id": "23a50127-604a-4ae4-a9c9-97d8ac9ad160"
        },
        "id": "qdqYo-4g4XFc"
      },
      "source": [
        "This, of course, only compares up to the 5th digit behind the comma.\n",
        "\n",
        "A better way to do this is the [isclose](https://docs.python.org/3/library/math.html#math.isclose) function from the math package."
      ]
    },
    {
      "cell_type": "code",
      "metadata": {
        "nbpresent": {
          "id": "c9fef2cd-f68c-4793-aa82-244bfd4a999b"
        },
        "id": "paOLujdn4XFd",
        "colab": {
          "base_uri": "https://localhost:8080/"
        },
        "outputId": "a298fec1-e075-4fc9-a89d-bdcf5d9e1e2f"
      },
      "source": [
        "# this is how we import a package\n",
        "import math\n",
        "# here we call the isclose function that comes with the math package.\n",
        "math.isclose(a, b, rel_tol=0.00001)"
      ],
      "execution_count": null,
      "outputs": [
        {
          "output_type": "execute_result",
          "data": {
            "text/plain": [
              "True"
            ]
          },
          "metadata": {},
          "execution_count": 22
        }
      ]
    },
    {
      "cell_type": "markdown",
      "metadata": {
        "nbpresent": {
          "id": "437c73a8-fd92-4c00-998f-3ecd14f135fb"
        },
        "id": "en7BHApk4XFi"
      },
      "source": [
        "Here we've also used our first package, the package `math`!\n",
        "\n",
        "Packages extend the basic functionality of python. We'll work a lot with packages in the future, details will follow."
      ]
    },
    {
      "cell_type": "markdown",
      "metadata": {
        "nbpresent": {
          "id": "6b2ed7ae-da6d-4a0d-9efc-16267cca4654"
        },
        "id": "Kw8p-e6g4XFi"
      },
      "source": [
        "#### Numerical Operators"
      ]
    },
    {
      "cell_type": "markdown",
      "metadata": {
        "id": "swANBdPP4XFj"
      },
      "source": [
        "Here is a selection of operators and functions that work on numerical data types.\n",
        "\n",
        "| Operation | Result\n",
        "| - | - |\n",
        "|`x + y`\t|sum of x and y\n",
        "|`x - y`\t|difference of x and y\n",
        "|`x * y`\t|product of x and y\n",
        "|`x / y`\t|quotient of x and y\n",
        "|`x % y`\t| remainder of x / y\n",
        "|`-x`\t| x negated\n",
        "|`abs(x)` |\tabsolute value or magnitude of x\n",
        "|`int(x)` |\tx converted to integer\n",
        "|`float(x)` |\tx converted to floating point\n",
        "|`pow(x, y)` |\tx to the power y\n",
        "| `x ** y` | x to the power y\n",
        "\n",
        "Most of these should be rather straight-forward.\n",
        "\n",
        "You might not have heard of the \"modulo operator\" `%` which returns the remainder of a devision x / y. Here is an example:"
      ]
    },
    {
      "cell_type": "code",
      "metadata": {
        "nbpresent": {
          "id": "175038dd-4256-42e4-8e87-fd168e694cf7"
        },
        "id": "JN9c5h7E4XFj",
        "colab": {
          "base_uri": "https://localhost:8080/"
        },
        "outputId": "4a2833e0-2a72-4628-f81f-9372e426cb0c"
      },
      "source": [
        "7 % 2"
      ],
      "execution_count": null,
      "outputs": [
        {
          "output_type": "execute_result",
          "data": {
            "text/plain": [
              "1"
            ]
          },
          "metadata": {},
          "execution_count": 23
        }
      ]
    },
    {
      "cell_type": "markdown",
      "metadata": {
        "nbpresent": {
          "id": "92c81698-42d0-4427-9dd8-e444df1da18a"
        },
        "id": "we5UGvt44XFl"
      },
      "source": [
        "Also, remember, that many operations have a shorthand assignment version, i.e., instead of:"
      ]
    },
    {
      "cell_type": "code",
      "metadata": {
        "nbpresent": {
          "id": "9fa6132e-6d3e-4bf8-99fb-002a16188e67"
        },
        "id": "UXwSb_S44XFl",
        "colab": {
          "base_uri": "https://localhost:8080/"
        },
        "outputId": "0ea93c1d-c19c-4972-9a7d-5dfc4116850a"
      },
      "source": [
        "x = 2\n",
        "y = 3\n",
        "x = x+y\n",
        "x"
      ],
      "execution_count": null,
      "outputs": [
        {
          "output_type": "execute_result",
          "data": {
            "text/plain": [
              "5"
            ]
          },
          "metadata": {},
          "execution_count": 24
        }
      ]
    },
    {
      "cell_type": "markdown",
      "metadata": {
        "nbpresent": {
          "id": "b355339d-1d2e-4792-9e18-fae5196b5f09"
        },
        "id": "I1m_jUeL4XFo"
      },
      "source": [
        "you can also write:"
      ]
    },
    {
      "cell_type": "code",
      "metadata": {
        "nbpresent": {
          "id": "68897df7-76f8-4428-83cb-7e915177afdb"
        },
        "id": "NIAJrPd14XFp",
        "colab": {
          "base_uri": "https://localhost:8080/"
        },
        "outputId": "2d790454-3a1a-4db8-d105-fecf85d56c47"
      },
      "source": [
        "x = 2\n",
        "y = 3\n",
        "x += y\n",
        "x"
      ],
      "execution_count": null,
      "outputs": [
        {
          "output_type": "execute_result",
          "data": {
            "text/plain": [
              "5"
            ]
          },
          "metadata": {},
          "execution_count": 25
        }
      ]
    },
    {
      "cell_type": "markdown",
      "metadata": {
        "nbpresent": {
          "id": "97b77ee5-60be-430a-94a1-622a022cde2b"
        },
        "id": "SzgErqGS4XFr"
      },
      "source": [
        "This works equally for other operators:"
      ]
    },
    {
      "cell_type": "code",
      "metadata": {
        "nbpresent": {
          "id": "6c04cc77-74d3-4fb3-b759-3ab30265b48e"
        },
        "id": "Ll8coQ2a4XFr",
        "colab": {
          "base_uri": "https://localhost:8080/"
        },
        "outputId": "980e3a91-c42b-4e3a-f6ce-ace52d04100e"
      },
      "source": [
        "x = 2\n",
        "y = 3\n",
        "x -= y\n",
        "x"
      ],
      "execution_count": null,
      "outputs": [
        {
          "output_type": "execute_result",
          "data": {
            "text/plain": [
              "-1"
            ]
          },
          "metadata": {},
          "execution_count": 26
        }
      ]
    },
    {
      "cell_type": "code",
      "metadata": {
        "nbpresent": {
          "id": "76beb25a-7f52-489a-b11d-6607484a7177"
        },
        "id": "sxTdxeJJ4XFt",
        "colab": {
          "base_uri": "https://localhost:8080/"
        },
        "outputId": "e140f755-6b91-445c-d5c5-909985cbdcde"
      },
      "source": [
        "x = 2\n",
        "y = 3\n",
        "x /= y\n",
        "x"
      ],
      "execution_count": null,
      "outputs": [
        {
          "output_type": "execute_result",
          "data": {
            "text/plain": [
              "0.6666666666666666"
            ]
          },
          "metadata": {},
          "execution_count": 27
        }
      ]
    },
    {
      "cell_type": "code",
      "metadata": {
        "nbpresent": {
          "id": "9621420b-585f-4e2d-9bf1-0a8215ef0b52"
        },
        "id": "BAKvlpy14XFu",
        "colab": {
          "base_uri": "https://localhost:8080/"
        },
        "outputId": "fe989429-fc1b-48ff-ce51-05135e428630"
      },
      "source": [
        "x = 2\n",
        "y = 3\n",
        "x **= y\n",
        "x"
      ],
      "execution_count": null,
      "outputs": [
        {
          "output_type": "execute_result",
          "data": {
            "text/plain": [
              "8"
            ]
          },
          "metadata": {},
          "execution_count": 28
        }
      ]
    },
    {
      "cell_type": "markdown",
      "metadata": {
        "collapsed": true,
        "nbpresent": {
          "id": "985a7b80-b461-4eaa-90c0-e05224fc1312"
        },
        "id": "66KWxqKx4XFx"
      },
      "source": [
        "### **Exercise 1:**"
      ]
    },
    {
      "cell_type": "markdown",
      "metadata": {
        "id": "sXnq6ZgR4XFx"
      },
      "source": [
        "**Task 1.1:** Try how capitalization affects string comparison, e.g., compare \"datascience\" to \"Datascience\".\n",
        "\n",
        "**Task 1.2:** Try to compare floats using the `==` operator defined as expressions of integers, e.g., whether 1/3 is equal to 2/6. Does that work? What about 1/7 * 5 and 5/7?\n",
        "\n",
        "**Task 1.3:** Write an expression that compares the \"floor\" value of a float to an integer, e.g., compare the floor of 1/3 to 0. There are two ways to calculate a floor value: using `int()` and using `math.floor()`. Are they equal? What is the data type of the returned values?"
      ]
    },
    {
      "cell_type": "code",
      "metadata": {
        "id": "A70Sj8AC4XFy"
      },
      "source": [],
      "execution_count": null,
      "outputs": []
    },
    {
      "cell_type": "markdown",
      "metadata": {
        "nbpresent": {
          "id": "e449481f-4c5f-4533-8885-03e547e85235"
        },
        "id": "yyFtdM944XF6"
      },
      "source": [
        "## 3. Conditions: if-elif-else statements"
      ]
    },
    {
      "cell_type": "markdown",
      "metadata": {
        "id": "4FZTd2pC4XF6"
      },
      "source": [
        "We've learned how to make comparisons between items and do boolean operations. The result of these operations was usually a boolean value.\n",
        "\n",
        "We can now make use of these boolean values to **steer the program flow using conditions**.\n",
        "\n",
        "We can do that using **if statements**. If conditions evaluate an arbitrary expression for its boolean value and execute one branch of code if they are true, and another branch if they are false:"
      ]
    },
    {
      "cell_type": "code",
      "metadata": {
        "nbpresent": {
          "id": "8694e33e-6ae9-4f08-9285-95921c365bd2"
        },
        "id": "GkI08n_44XF7"
      },
      "source": [
        "def isOdd(x):\n",
        "    # the statement within the brackets is evaluated for truth\n",
        "    if (x % 2 == 1):\n",
        "        # body, executed if true\n",
        "        print(str(x) + \" is in fact an odd number\")\n",
        "    else:\n",
        "        # executed if false\n",
        "        print(str(x) + \" is an even number\")\n",
        "\n",
        "isOdd(144)\n",
        "isOdd(13)"
      ],
      "execution_count": null,
      "outputs": []
    },
    {
      "cell_type": "markdown",
      "metadata": {
        "nbpresent": {
          "id": "86859a77-9e6c-4464-bd01-81d448af0345"
        },
        "id": "shT_7Ac34XF8"
      },
      "source": [
        "Notice that the **code blocks that are intended form the \"body\"** of the if statement, just as it did for functions.\n",
        "\n",
        "In addition to the explicit boolean values that we can use to test for truth, most **programming languages define a range of things to be true or false**.\n",
        "\n",
        "By definition:\n",
        " * 0 of any numeric type,\n",
        " * empty sequences or lists,\n",
        " * `none` values, etc.,\n",
        "are considered false. Everything else is considered true."
      ]
    },
    {
      "cell_type": "code",
      "metadata": {
        "nbpresent": {
          "id": "84429591-fc62-43ed-af94-ee03f2471b6e"
        },
        "id": "wdNH1aSm4XF9"
      },
      "source": [
        "if (0):\n",
        "    print(\"This should never happen\")\n",
        "else:\n",
        "    print(\"0 is false\")\n",
        "\n",
        "undefined_var = None\n",
        "if (undefined_var):\n",
        "    print(\"This should never happen\")\n",
        "else:\n",
        "    print(\"An undefined variable is false\")\n",
        "\n",
        "if ([]):\n",
        "    print(\"This should never happen\")\n",
        "else:\n",
        "    print(\"An empty list is false\")\n"
      ],
      "execution_count": null,
      "outputs": []
    },
    {
      "cell_type": "markdown",
      "metadata": {
        "nbpresent": {
          "id": "747a7099-64f2-4f71-a0d0-155dd2ef0b28"
        },
        "id": "_dsmu2dm4XF_"
      },
      "source": [
        "You can also **chain conditions using the `elif` statement**, which is short for else if:"
      ]
    },
    {
      "cell_type": "code",
      "metadata": {
        "nbpresent": {
          "id": "4df31c1d-fa43-4d1b-8d2f-7d5eb7771540"
        },
        "id": "cHzSMDsO4XGA"
      },
      "source": [
        "def smallest_factors(x):\n",
        "    # notice the use of the negation and the use of 0 as false\n",
        "    if(not x % 2):\n",
        "        print(\"2 is a factor of \" + str(x))\n",
        "    elif(not x % 3):     # only evaluated when if was false\n",
        "        print(\"3 is a factor of \" + str(x))\n",
        "    else: # only evaluated when both if and elif were false\n",
        "        print(\"Neither 2 nor 3 are factors of \" + str(x))\n",
        "\n",
        "smallest_factors(4)\n",
        "smallest_factors(9)\n",
        "smallest_factors(12)"
      ],
      "execution_count": null,
      "outputs": []
    },
    {
      "cell_type": "markdown",
      "metadata": {
        "id": "eZUVbwAQ4XGB"
      },
      "source": [
        "Notice that the elif (or the else) branch is not evaluated when the if branch matches. A function that prints whether both, 2 and 3 is a factor could be written like this:"
      ]
    },
    {
      "cell_type": "code",
      "metadata": {
        "nbpresent": {
          "id": "4df31c1d-fa43-4d1b-8d2f-7d5eb7771540"
        },
        "id": "LG9zeNou4XGF"
      },
      "source": [
        "def factors(x):\n",
        "    # notice the use of the negation and the use of 0 as false\n",
        "    if(not x % 2):\n",
        "        print(\"2 is a factor of \" + str(x))\n",
        "    if(not x % 3):\n",
        "        print(\"3 is a factor of \" + str(x))\n",
        "    if (x % 2) and (x % 3):\n",
        "        print(\"Neither 2 nor 3 are factors of \" + str(x))\n",
        "\n",
        "factors(4)\n",
        "factors(9)\n",
        "factors(12)\n",
        "factors(13)"
      ],
      "execution_count": null,
      "outputs": []
    },
    {
      "cell_type": "markdown",
      "metadata": {
        "nbpresent": {
          "id": "2b42280a-51b8-49f5-9cb7-8d58ef24ac07"
        },
        "id": "kORU6mK_4XGK"
      },
      "source": [
        "### **Exercise 3: If statement**"
      ]
    },
    {
      "cell_type": "markdown",
      "metadata": {
        "id": "noaHi1Hw4XGK"
      },
      "source": [
        "Write a function that takes two integers. If either of the numbers can be divided by the other without a remainder, print the result of the division. If none of the numbers can divide the other one, print an error message."
      ]
    },
    {
      "cell_type": "code",
      "metadata": {
        "id": "ACTd2s4R4XGL"
      },
      "source": [
        "# your solution"
      ],
      "execution_count": null,
      "outputs": []
    },
    {
      "cell_type": "markdown",
      "metadata": {
        "id": "YE2Dxh-Z4XG_"
      },
      "source": [
        "## 4. Loops"
      ]
    },
    {
      "cell_type": "markdown",
      "metadata": {
        "id": "ORGYY1kW4XG_"
      },
      "source": [
        "So far we have learned about two ways to control the flow of a program: functions and if-statements. Now we'll look at another important control structure: loops.\n",
        "\n",
        "Like an if statement, a loop has a condition, and as long as that condition is true, it will continue to re-execute its body.\n",
        "\n",
        "There are two types of loops. For loops and while loops."
      ]
    },
    {
      "cell_type": "markdown",
      "metadata": {
        "nbpresent": {
          "id": "0c500e4e-a855-4aa2-9cca-95a56f781908"
        },
        "id": "yxcSX7a64XG_"
      },
      "source": [
        "### 4.1 While loops"
      ]
    },
    {
      "cell_type": "markdown",
      "metadata": {
        "id": "_9iXHL5g4XHA"
      },
      "source": [
        "While loops use the `while` keyword, a condition, and the loop body:"
      ]
    },
    {
      "cell_type": "code",
      "metadata": {
        "nbpresent": {
          "id": "b33fcef8-e667-4577-8c01-61a2b4f6ace3"
        },
        "id": "1TkTBU4b4XHA"
      },
      "source": [
        "a = 1\n",
        "\n",
        "# print numbers 0-100\n",
        "while (a <= 100):\n",
        "    print(a, end=\", \")\n",
        "    # end is a parameter of print that defines how the string to be printed ends.\n",
        "    # By default, a newline \\n is appended, which we overwrite here\n",
        "    a += 1"
      ],
      "execution_count": null,
      "outputs": []
    },
    {
      "cell_type": "markdown",
      "metadata": {
        "nbpresent": {
          "id": "bba871db-05b8-4220-ae06-b398011ae901"
        },
        "id": "EbnAnIXj4XHB"
      },
      "source": [
        "What happens here? The `while` keyword indicates that this is a loop, which is followed by the **terminating condition of `a <= 100`**. As long as that condition is true, the loops body will be called again and again and again ...\n",
        "\n",
        "Once the terminating condition evaluates to false, the code in the loop body will be skipped and the flow of execution continues below the loop.\n",
        "\n",
        "You might rightly guess that it's easy to write loops that don't terminate. Here is one example:\n",
        "```python\n",
        "while True:\n",
        "    print \"Stuck\"\n",
        "```"
      ]
    },
    {
      "cell_type": "markdown",
      "metadata": {
        "id": "MHSlNSvT4XHB"
      },
      "source": [
        "This program is stuck in the loop forever (or until you terminate it by interrupting your kernel, your computer goes off, etc.) It is hence important to take care that loops actually reach a terminating condition, and it's not always as obvious as in the previous example that this is not the case.\n",
        "\n",
        "But we could also **use the `break` statement to terminate a loop**:"
      ]
    },
    {
      "cell_type": "code",
      "metadata": {
        "nbpresent": {
          "id": "a9a27eaf-b9eb-40e6-ae90-8b5691544af7"
        },
        "id": "vI_w_US54XHC"
      },
      "source": [
        "a = 1\n",
        "while (True):\n",
        "    print(a, end=\", \")\n",
        "    a += 1\n",
        "    if (a > 100):\n",
        "        break"
      ],
      "execution_count": null,
      "outputs": []
    },
    {
      "cell_type": "markdown",
      "metadata": {
        "nbpresent": {
          "id": "16ffca6e-b3b7-437b-a5b4-c6ec25bdc470"
        },
        "id": "AdwLfV7q4XHD"
      },
      "source": [
        "Here, we've moved the check of the condition into an if statement, and break when the if statement is executed.\n",
        "\n",
        "Similar to the `break` statement, there is also a `continue` statement, that ends evaluation of the loop body and goes back to the start of the loop in the next cycle:"
      ]
    },
    {
      "cell_type": "code",
      "metadata": {
        "nbpresent": {
          "id": "e14f20b8-02a7-4a86-b78d-55f2cb27a5e8"
        },
        "id": "hgmKcGy24XHD"
      },
      "source": [
        "a = 0\n",
        "while (a < 100):\n",
        "    a +=1;\n",
        "    # throw brackets around all numbers divisible by 3\n",
        "    if (not a % 3):\n",
        "        print(\"[\" + str(a) + \"]\", end=\", \")\n",
        "        continue # the next line isn't executed b/c the flow goes back to the beginning of the loop\n",
        "    print(a, end=\", \")\n",
        "\n"
      ],
      "execution_count": null,
      "outputs": []
    },
    {
      "cell_type": "markdown",
      "metadata": {
        "nbpresent": {
          "id": "eff94813-546c-4e98-800c-bbb8aa8c57c2"
        },
        "id": "Q12DRxRe4XHF"
      },
      "source": [
        "### **Exercise 4.1: While**"
      ]
    },
    {
      "cell_type": "markdown",
      "metadata": {
        "id": "f4sDtZ514XHF"
      },
      "source": [
        "Write a while loop that computes the sum of the 100 first positive integers. I.e., calculate\n",
        "\n",
        "$1+2+3+4+5+...+100$"
      ]
    },
    {
      "cell_type": "code",
      "metadata": {
        "id": "soIpZx3q4XHG"
      },
      "source": [
        "# your solution"
      ],
      "execution_count": null,
      "outputs": []
    },
    {
      "cell_type": "markdown",
      "metadata": {
        "nbpresent": {
          "id": "f5f9657e-8005-4ab0-ab73-56a84ec52eec"
        },
        "id": "SWtZ-4Nm4XHN"
      },
      "source": [
        "### 4.2 For loops"
      ]
    },
    {
      "cell_type": "markdown",
      "metadata": {
        "id": "pA4pF38o4XHO"
      },
      "source": [
        "In contrast to most other programming language, Python uses for loops mainly to iterate over items of a sequence.\n",
        "\n",
        "It uses the following syntax:\n",
        "```python\n",
        "for variable in sequence:\n",
        "    #body\n",
        "```"
      ]
    },
    {
      "cell_type": "markdown",
      "metadata": {
        "id": "zVAzOA9g4XHP"
      },
      "source": [
        "The variable is then a accessible within the body of the loop.\n",
        "\n",
        "Here is an example:"
      ]
    },
    {
      "cell_type": "code",
      "metadata": {
        "nbpresent": {
          "id": "753d2989-7259-4a0d-82cf-648387a730e6"
        },
        "id": "R0Qhgue44XHQ"
      },
      "source": [
        "zeppelin = [\"Jimmy\", \"Robert\", \"John\", \"John\"]\n",
        "for member in zeppelin:\n",
        "    print(member)"
      ],
      "execution_count": null,
      "outputs": []
    },
    {
      "cell_type": "markdown",
      "metadata": {
        "nbpresent": {
          "id": "c8c2677e-9e47-4d91-ac4c-257e0c92db61"
        },
        "id": "4WseKxdh4XHT"
      },
      "source": [
        "Of course, that works with arbitrary **slices of lists**:"
      ]
    },
    {
      "cell_type": "code",
      "metadata": {
        "nbpresent": {
          "id": "d1cfb14d-a716-40a0-8e7c-5c1e0e0c74d4"
        },
        "id": "MCL5rDVh4XHV"
      },
      "source": [
        "for member in zeppelin[:2]:\n",
        "    print(member)"
      ],
      "execution_count": null,
      "outputs": []
    },
    {
      "cell_type": "markdown",
      "metadata": {
        "nbpresent": {
          "id": "a7feecca-549b-42ad-bd24-6a90674cbbc5"
        },
        "id": "QAtzWGjP4XHc"
      },
      "source": [
        "When you want to iterate over a sequence of numbers, use the [`range()`](https://docs.python.org/3/library/stdtypes.html#range) function. Range generates a sequence of numbers:"
      ]
    },
    {
      "cell_type": "code",
      "metadata": {
        "nbpresent": {
          "id": "439f5d88-4105-42f5-bb30-ad3c0b11f86a"
        },
        "id": "udZMj0qo4XHc"
      },
      "source": [
        "# we create a new list with the output of the range function\n",
        "list(range(5))"
      ],
      "execution_count": null,
      "outputs": []
    },
    {
      "cell_type": "code",
      "metadata": {
        "nbpresent": {
          "id": "81fa2227-850e-4d4e-858a-6287c197144a"
        },
        "id": "Wo-3F12l4XHg"
      },
      "source": [
        "# start at 0, stop at index 10, two steps\n",
        "list(range(0, 10, 2))"
      ],
      "execution_count": null,
      "outputs": []
    },
    {
      "cell_type": "markdown",
      "metadata": {
        "nbpresent": {
          "id": "51c665ed-ba7b-4eef-8dcd-7bde9e5222e6"
        },
        "id": "63tPqUJm4XHh"
      },
      "source": [
        "Using this range function, we can now iterate over a sequence of numbers:"
      ]
    },
    {
      "cell_type": "code",
      "metadata": {
        "nbpresent": {
          "id": "91ec5e27-b2c5-4cf4-959b-5162a3a2e0e9"
        },
        "id": "oQCDPd4l4XHh"
      },
      "source": [
        "for i in range(10):\n",
        "    print (i)"
      ],
      "execution_count": null,
      "outputs": []
    },
    {
      "cell_type": "markdown",
      "metadata": {
        "id": "E5tr5yrm4XHj"
      },
      "source": [
        "The range function also takes other parameters, specifically a \"start\", \"stop\" and a \"step-size\" parameter."
      ]
    },
    {
      "cell_type": "code",
      "metadata": {
        "nbpresent": {
          "id": "940616b0-2499-49de-bc31-b2b490cf177d"
        },
        "id": "LN6GC9bX4XHj"
      },
      "source": [
        "for i in range (0, -20, -3):\n",
        "    print(i)"
      ],
      "execution_count": null,
      "outputs": []
    },
    {
      "cell_type": "markdown",
      "metadata": {
        "nbpresent": {
          "id": "1ce99510-6120-42fc-bf7c-1a6743fe4dfe"
        },
        "id": "qURrp8A64XHm"
      },
      "source": [
        "### Exercise 4.2: for loops"
      ]
    },
    {
      "cell_type": "markdown",
      "metadata": {
        "collapsed": true,
        "id": "T2NMg56e4XHn"
      },
      "source": [
        "**4.2.1:** Use a for loop to create an array that contains all even numbers in the range 0-50, i.e., an array: [2, 4, 6, ..., 48, 50]  \n",
        "\n",
        "**4.2.2:** Create a new array for the Beatles main instruments: Ringo played drums, George played lead guitar, John played rhythm guitar and Paul played bass. Assume that the array position associated the musician with his instrument. Use a for loop to print:\n",
        "\n",
        "```\n",
        "Paul: Bass\n",
        "John: Rythm Guitar\n",
        "George: Lead Guitar\n",
        "Ringo: Drums\n",
        "```\n",
        "\n"
      ]
    },
    {
      "cell_type": "code",
      "metadata": {
        "id": "FSfNURAP4XHn"
      },
      "source": [
        "# your solutions"
      ],
      "execution_count": null,
      "outputs": []
    }
  ]
}