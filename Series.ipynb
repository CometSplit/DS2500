{
  "nbformat": 4,
  "nbformat_minor": 0,
  "metadata": {
    "colab": {
      "provenance": [],
      "include_colab_link": true
    },
    "kernelspec": {
      "name": "python3",
      "display_name": "Python 3"
    }
  },
  "cells": [
    {
      "cell_type": "markdown",
      "metadata": {
        "id": "view-in-github",
        "colab_type": "text"
      },
      "source": [
        "<a href=\"https://colab.research.google.com/github/CometSplit/DS2500/blob/main/Series.ipynb\" target=\"_parent\"><img src=\"https://colab.research.google.com/assets/colab-badge.svg\" alt=\"Open In Colab\"/></a>"
      ]
    },
    {
      "cell_type": "markdown",
      "source": [
        "based in part on materials by Prof. Alex Lex"
      ],
      "metadata": {
        "id": "ZdXw5LOQ-W-o"
      }
    },
    {
      "cell_type": "markdown",
      "metadata": {
        "id": "PcteHFbr7xo-"
      },
      "source": [
        "## The Pandas Library: Series"
      ]
    },
    {
      "cell_type": "markdown",
      "metadata": {
        "id": "BxWd--oM7xpA"
      },
      "source": [
        "Pandas is a popular library for manipulating vectors, tables, and time series. We will frequently use Pandas data structures instead of the built-in python data structures, as they provide much richer functionality. Also, Pandas is **fast**, which makes working with large datasets easier.  Check out the official pandas website at [http://pandas.pydata.org/](http://pandas.pydata.org/).\n",
        "\n",
        "This tutorial is partially based on the [excellent book by Matt Harrison](https://www.amazon.com/Learning-Pandas-Library-Analysis-Visualization-ebook/dp/B01GIE03GW/).\n",
        "\n",
        "Pandas provides three data structures:\n",
        "\n",
        " * the **series**, which represents a single column of data similar to a python list\n",
        " * the **data frame**, which represents multiple series of data\n",
        " * the **panel**, which represents multiple data frames\n",
        "\n",
        "We'll mostly work with series and data frames and largely ignore panels.\n",
        "\n",
        "To make pandas available, we'll import the module into this notebook. It is customary to import pandas as `pd`:"
      ]
    },
    {
      "cell_type": "code",
      "metadata": {
        "id": "4fNrg9P_7xpB"
      },
      "source": [
        "import pandas as pd"
      ],
      "execution_count": null,
      "outputs": []
    },
    {
      "cell_type": "markdown",
      "metadata": {
        "id": "ACpIGbGA7xpD"
      },
      "source": [
        "Series are the most fundamental data structure in pandas. Let's create two simple series based on an arrays:"
      ]
    },
    {
      "cell_type": "code",
      "metadata": {
        "id": "cminonjk7xpD"
      },
      "source": [
        "\n",
        "bands = pd.Series([\"Stones\", \"Beatles\", \"Zeppelin\", \"Pink Floyd\"])\n",
        "bands"
      ],
      "execution_count": null,
      "outputs": []
    },
    {
      "cell_type": "code",
      "metadata": {
        "id": "AYWNWfDj7xpF"
      },
      "source": [
        "founded = pd.Series([1962, 1960, 1968, 1965])\n",
        "founded"
      ],
      "execution_count": null,
      "outputs": []
    },
    {
      "cell_type": "markdown",
      "metadata": {
        "id": "7fV1YARG7xpL"
      },
      "source": [
        "When we output these objects we can see an index, also called an axis, which by default is an integer sequence starting at 0, and the associated values.\n",
        "\n",
        "| Index | Value |\n",
        "| - | - |\n",
        "| 0  |        Stones\n",
        "|1   |    Beatles\n",
        "|2  |    Zeppelin\n",
        "|3 |    Pink Floyd\n",
        "\n",
        "Pandas also tells us the data type of the values, `object` for the first series – in this case, this is a string, `int64` (a 64-bit integer) for the second.\n",
        "\n",
        "Notice that `int64` is not a Python datatype, but a C integer of 64 bit length – which, unlike Python integers – can overflow!\n",
        "\n",
        "We can also use other data types as indices, in which case the series behaves a lot like a dictionary:"
      ]
    },
    {
      "cell_type": "code",
      "metadata": {
        "id": "PYnLeQyH7xpM"
      },
      "source": [
        "# the data is the first parameter, the index is given by the index keyword\n",
        "bands_founded = pd.Series([1962, 1960, 1968, 1965, 2012],\n",
        "                          index=[\"Stones\", \"Beatles\", \"Zeppelin\", \"Pink Floyd\", \"Pink Floyd\"],\n",
        "                          name=\"Bands founded\")\n",
        "bands_founded"
      ],
      "execution_count": null,
      "outputs": []
    },
    {
      "cell_type": "markdown",
      "metadata": {
        "id": "eyFzofle7xpO"
      },
      "source": [
        "| Index | Value |\n",
        "| - | - |\n",
        "| Stones     |    1962\n",
        "| Beatles    |    1960\n",
        "| Zeppelin     |  1968\n",
        "| Pink Floyd |    1965\n",
        "| Pink Floyd |    2012\n",
        "\n",
        "Here we see something interesting: We've used the same index (Pink Floyd) twice, once for the original founding of the band, and once for the re-union starting in 2012. Also, the order of the entries is preserved.\n",
        "\n",
        "A series is, so to speak, both, a list and a dictionary!"
      ]
    },
    {
      "cell_type": "markdown",
      "metadata": {
        "id": "hoZ5kwr37xpO"
      },
      "source": [
        "We can access the values of a series by printing the member `values`."
      ]
    },
    {
      "cell_type": "code",
      "metadata": {
        "id": "OZq9Rd3P7xpO"
      },
      "source": [
        "bands.values"
      ],
      "execution_count": null,
      "outputs": []
    },
    {
      "cell_type": "markdown",
      "metadata": {
        "id": "DvybJRbL7xpQ"
      },
      "source": [
        "And we can look at how the index is composed:"
      ]
    },
    {
      "cell_type": "code",
      "metadata": {
        "id": "hY413c3J7xpR"
      },
      "source": [
        "bands.index"
      ],
      "execution_count": null,
      "outputs": []
    },
    {
      "cell_type": "markdown",
      "metadata": {
        "id": "oV3ytLFO7xpT"
      },
      "source": [
        "What we see here is that this isn't an explicit list, but rather a set of rules!\n",
        "\n",
        "Let's compare this to the index where we used explicit labels:"
      ]
    },
    {
      "cell_type": "code",
      "metadata": {
        "id": "D4qts8397xpT"
      },
      "source": [
        "bands_founded.index"
      ],
      "execution_count": null,
      "outputs": []
    },
    {
      "cell_type": "markdown",
      "metadata": {
        "id": "dSKYDALz7xpV"
      },
      "source": [
        "We can access individual entries as we'd access an array or a dictionary:"
      ]
    },
    {
      "cell_type": "code",
      "metadata": {
        "id": "f80s6ZI07xpV"
      },
      "source": [
        "bands[0]"
      ],
      "execution_count": null,
      "outputs": []
    },
    {
      "cell_type": "code",
      "metadata": {
        "id": "-1JcBwE27xpW"
      },
      "source": [
        "bands_founded[\"Pink Floyd\"]"
      ],
      "execution_count": null,
      "outputs": []
    },
    {
      "cell_type": "markdown",
      "metadata": {
        "id": "O7fv7cr57xpX"
      },
      "source": [
        "There is also a method for looking up a value:"
      ]
    },
    {
      "cell_type": "code",
      "metadata": {
        "id": "ulOteHpF7xpY"
      },
      "source": [
        "bands_founded.get(\"Stones\")"
      ],
      "execution_count": null,
      "outputs": []
    },
    {
      "cell_type": "markdown",
      "metadata": {
        "id": "JzgXPv9h7xpb"
      },
      "source": [
        "Note that these access methods are as fast as a dictionary lookup, and much faster than a lookup in a list."
      ]
    },
    {
      "cell_type": "markdown",
      "metadata": {
        "id": "wryAf0VH7xpb"
      },
      "source": [
        "That works also with arrays of labels, in which case the return type is a series, not a single value."
      ]
    },
    {
      "cell_type": "code",
      "metadata": {
        "id": "Al66Nvbz7xpd"
      },
      "source": [
        "bands_founded.get([\"Stones\", \"Beatles\"])"
      ],
      "execution_count": null,
      "outputs": []
    },
    {
      "cell_type": "markdown",
      "metadata": {
        "id": "GTJqlvhv7xpf"
      },
      "source": [
        "Notice that when we access data with multiple indices, we don't get a simple data type, as in the above cases, but instead get another series back:"
      ]
    },
    {
      "cell_type": "code",
      "metadata": {
        "id": "tz8k5eAj7xpg"
      },
      "source": [
        "bands_founded[\"Pink Floyd\"]"
      ],
      "execution_count": null,
      "outputs": []
    },
    {
      "cell_type": "markdown",
      "metadata": {
        "id": "I6jR-Ous7xpk"
      },
      "source": [
        "Series also have indexers for label-based access: [`loc`](http://pandas.pydata.org/pandas-docs/stable/generated/pandas.DataFrame.loc.html)"
      ]
    },
    {
      "cell_type": "code",
      "metadata": {
        "id": "ohla2Xdd7xpl"
      },
      "source": [
        "# And one more way for looking up a value:\n",
        "bands_founded.loc[\"Stones\"]\n",
        "# this is equivalent to\n",
        "# bands_founded[\"Stones\"]"
      ],
      "execution_count": null,
      "outputs": []
    },
    {
      "cell_type": "markdown",
      "metadata": {
        "id": "jrpwWq_k7xpm"
      },
      "source": [
        "Related to the `loc` indexer is the [`iloc`](http://pandas.pydata.org/pandas-docs/version/0.17.0/generated/pandas.DataFrame.iloc.html) indexer. However, instead of an index, `iloc` operates purely on position, not on index labels:"
      ]
    },
    {
      "cell_type": "code",
      "metadata": {
        "id": "n4namoB27xpm"
      },
      "source": [
        "bands_founded.iloc[1]"
      ],
      "execution_count": null,
      "outputs": []
    },
    {
      "cell_type": "markdown",
      "metadata": {
        "id": "g-TA9NdV7xpn"
      },
      "source": [
        "These ways of accessing slices of a dataset (`loc`, `iloc`), will make more sense when we use dataframes instead of series - in dataframes, `loc` and `iloc` operate on the rows, whereas square brackets operate on the columns."
      ]
    },
    {
      "cell_type": "markdown",
      "metadata": {
        "id": "bQ6hIB--7xpn"
      },
      "source": [
        "### Iterating\n",
        "\n",
        "Iteration works as you would expect:"
      ]
    },
    {
      "cell_type": "code",
      "metadata": {
        "id": "PqMsXG_77xpo"
      },
      "source": [
        "for band in bands:\n",
        "    print(band)"
      ],
      "execution_count": null,
      "outputs": []
    },
    {
      "cell_type": "code",
      "metadata": {
        "id": "HQmlfhWg7xpq"
      },
      "source": [
        "for band, founded in bands_founded.items():\n",
        "    print(band + \", \" + str(founded))"
      ],
      "execution_count": null,
      "outputs": []
    },
    {
      "cell_type": "markdown",
      "metadata": {
        "id": "ks4xXWpV7xpr"
      },
      "source": [
        "### Updating\n",
        "Updating works largely as expected, however, you have to be careful when updating series with duplicate indices:"
      ]
    },
    {
      "cell_type": "code",
      "metadata": {
        "id": "9EZKth7J7xpr"
      },
      "source": [
        "bands[2] = \"The Doors\"\n",
        "bands"
      ],
      "execution_count": null,
      "outputs": []
    },
    {
      "cell_type": "markdown",
      "metadata": {
        "id": "tNV_LkZP7xps"
      },
      "source": [
        "We can add a new item by direclty assigning it to a new index."
      ]
    },
    {
      "cell_type": "code",
      "metadata": {
        "id": "jF8xslnh7xpt"
      },
      "source": [
        "bands[4] = \"Zeppelin\"\n",
        "bands"
      ],
      "execution_count": null,
      "outputs": []
    },
    {
      "cell_type": "markdown",
      "metadata": {
        "id": "74dYSL-_7xpu"
      },
      "source": [
        "Note that the indices don't have to be sequential."
      ]
    },
    {
      "cell_type": "code",
      "metadata": {
        "id": "24mSSPWk7xpu"
      },
      "source": [
        "bands[17] = \"The Who\"\n",
        "bands"
      ],
      "execution_count": null,
      "outputs": []
    },
    {
      "cell_type": "markdown",
      "metadata": {
        "id": "a5ydujLG7xpy"
      },
      "source": [
        "When we update based on an index that occurs more than once, all instances are updated:"
      ]
    },
    {
      "cell_type": "code",
      "metadata": {
        "id": "xXvCzDz47xpy"
      },
      "source": [
        "bands_founded[\"Pink Floyd\"] = 2015\n",
        "bands_founded"
      ],
      "execution_count": null,
      "outputs": []
    },
    {
      "cell_type": "markdown",
      "metadata": {
        "id": "se9oZrpf7xp1"
      },
      "source": [
        "A way to update a specific entry when an index is used multiple time is to use the `iloc` indexer. We can use the `iloc` array to set values based purely on position. However, all of this is rather ugly."
      ]
    },
    {
      "cell_type": "code",
      "metadata": {
        "id": "3j4E3Khz7xp1"
      },
      "source": [
        "bands_founded.iloc[4] = 1965\n",
        "bands_founded"
      ],
      "execution_count": null,
      "outputs": []
    },
    {
      "cell_type": "code",
      "source": [
        "bands.index"
      ],
      "metadata": {
        "id": "dYzBLERD-gJ2"
      },
      "execution_count": null,
      "outputs": []
    },
    {
      "cell_type": "markdown",
      "metadata": {
        "id": "TjCgdC9s7xp2"
      },
      "source": [
        "### Deleting\n",
        "\n",
        "Deleting is rarely done with pandas data structures, instead filters and masks are used. It's possible based on indices:"
      ]
    },
    {
      "cell_type": "code",
      "metadata": {
        "id": "7vF4idM27xp2"
      },
      "source": [
        "del bands_founded[\"Stones\"]\n",
        "bands_founded"
      ],
      "execution_count": null,
      "outputs": []
    },
    {
      "cell_type": "markdown",
      "metadata": {
        "id": "2ZC6NJoL7xp3"
      },
      "source": [
        "### Indexing and slicing\n",
        "\n",
        "Indexing and slicing works largely like in normal python, but instead of just directly using the bracket notations, it is recommended to use `iloc` for indexing by position and `loc` for indexing by index."
      ]
    },
    {
      "cell_type": "code",
      "metadata": {
        "id": "IjUBt3cc7xp4"
      },
      "source": [
        "# slicing by position\n",
        "bands_founded.iloc[1:3]"
      ],
      "execution_count": null,
      "outputs": []
    },
    {
      "cell_type": "markdown",
      "metadata": {
        "id": "AIHV0_ew7xp5"
      },
      "source": [
        "When slicing by index, the last value specified is *included*, which differs from regular Python slicing behavior."
      ]
    },
    {
      "cell_type": "code",
      "metadata": {
        "id": "OxONxtiU7xp5"
      },
      "source": [
        "# slicing by index\n",
        "bands_founded.loc[\"Zeppelin\" : \"Pink Floyd\"]"
      ],
      "execution_count": null,
      "outputs": []
    },
    {
      "cell_type": "code",
      "metadata": {
        "id": "_qY-cvPA7xp8"
      },
      "source": [
        "# Note that index 17 is included\n",
        "bands.loc[1:17]"
      ],
      "execution_count": null,
      "outputs": []
    },
    {
      "cell_type": "markdown",
      "metadata": {
        "id": "1TGrgrtk7xp9"
      },
      "source": [
        "Again, for series (not for data frames), `loc` and just using bracket notation is identical:"
      ]
    },
    {
      "cell_type": "code",
      "metadata": {
        "id": "RjQe8H7F7xp9"
      },
      "source": [
        "bands[2:17]"
      ],
      "execution_count": null,
      "outputs": []
    },
    {
      "cell_type": "markdown",
      "metadata": {
        "id": "EnOvOtyc7xp-"
      },
      "source": [
        "Both, `iloc` and `loc` can be used with arrays, which isn't possible in vanilla Python:"
      ]
    },
    {
      "cell_type": "code",
      "metadata": {
        "id": "KUsSG_vW7xp-"
      },
      "source": [
        "bands_founded.iloc[[0,3]]"
      ],
      "execution_count": null,
      "outputs": []
    },
    {
      "cell_type": "code",
      "metadata": {
        "id": "gayDgZV47xp_"
      },
      "source": [
        "bands_founded.loc[[\"Beatles\", \"Pink Floyd\"]]"
      ],
      "execution_count": null,
      "outputs": []
    },
    {
      "cell_type": "markdown",
      "metadata": {
        "id": "6zsP0y7x7xqB"
      },
      "source": [
        "And, all these variants can also be used with boolean arrays, which we will soon find out to be very helpful:"
      ]
    },
    {
      "cell_type": "code",
      "metadata": {
        "id": "ouJqLAJt7xqB"
      },
      "source": [
        "bands_founded"
      ],
      "execution_count": null,
      "outputs": []
    },
    {
      "cell_type": "code",
      "metadata": {
        "id": "UaXNBETm7xqE"
      },
      "source": [
        "bands_founded.loc[[True, False, False, True]]"
      ],
      "execution_count": null,
      "outputs": []
    },
    {
      "cell_type": "markdown",
      "metadata": {
        "id": "et6JfnmO7xqG"
      },
      "source": [
        "### Masking and Filtering\n",
        "\n",
        "With pandas we can create boolean arrays that we can use to mask and filter a dataset. In the following expression, we'll create a new series that has \"True\" for every band formed after 1964:"
      ]
    },
    {
      "cell_type": "code",
      "metadata": {
        "id": "ZrP_eIBT7xqG"
      },
      "source": [
        "mask = bands_founded > 1964\n",
        "mask"
      ],
      "execution_count": null,
      "outputs": []
    },
    {
      "cell_type": "markdown",
      "metadata": {
        "id": "b26XVvK97xqH"
      },
      "source": [
        "This uses a technique called **broadcasting**. We can use broadcasting with various operations:"
      ]
    },
    {
      "cell_type": "code",
      "metadata": {
        "id": "c4gDz1Rl7xqH"
      },
      "source": [
        "# Not particularly useful for this dataset..\n",
        "founding_months = bands_founded * 12\n",
        "founding_months"
      ],
      "execution_count": null,
      "outputs": []
    },
    {
      "cell_type": "markdown",
      "metadata": {
        "id": "pJDK9qH47xqI"
      },
      "source": [
        "We can use a boolean mask to filter a series, as we've seen before:"
      ]
    },
    {
      "cell_type": "code",
      "metadata": {
        "id": "orABGu4E7xqJ"
      },
      "source": [
        "# applying the mask to the original array\n",
        "# note that almost all of those operations return a new copy and don't modify in place\n",
        "bands_founded[mask]"
      ],
      "execution_count": null,
      "outputs": []
    },
    {
      "cell_type": "markdown",
      "metadata": {
        "id": "vMEx22ZC7xqK"
      },
      "source": [
        "The short form here would be:"
      ]
    },
    {
      "cell_type": "code",
      "metadata": {
        "id": "sA5DuykH7xqL"
      },
      "source": [
        "#return bands founded, where bands founded (the values in the Series - years) > 1964\n",
        "bands_founded[bands_founded > 1964]"
      ],
      "execution_count": null,
      "outputs": []
    },
    {
      "cell_type": "code",
      "source": [
        "bands_founded"
      ],
      "metadata": {
        "id": "UCIaKqfYCApI"
      },
      "execution_count": null,
      "outputs": []
    },
    {
      "cell_type": "markdown",
      "metadata": {
        "id": "h_4R9Z107xqM"
      },
      "source": [
        "## Exploring a Series\n",
        "\n",
        "There are various way we can explore a series. We can count the number of non-null values:"
      ]
    },
    {
      "cell_type": "code",
      "metadata": {
        "id": "dS_laUUJ7xqN"
      },
      "source": [
        "numbers = pd.Series([1962, 1960, 1968, 1965, 2012, None, 2016])\n",
        "numbers.count()"
      ],
      "execution_count": null,
      "outputs": []
    },
    {
      "cell_type": "code",
      "metadata": {
        "id": "unCcEmZJ7xqS"
      },
      "source": [
        "numbers"
      ],
      "execution_count": null,
      "outputs": []
    },
    {
      "cell_type": "markdown",
      "metadata": {
        "id": "5gyFl8GY7xqU"
      },
      "source": [
        "We can get the sum, mean, median of a series:"
      ]
    },
    {
      "cell_type": "code",
      "metadata": {
        "id": "gbD9WmWn7xqV"
      },
      "source": [
        "numbers.sum()"
      ],
      "execution_count": null,
      "outputs": []
    },
    {
      "cell_type": "code",
      "metadata": {
        "id": "Ch_t25Ql7xqW"
      },
      "source": [
        "numbers.mean()"
      ],
      "execution_count": null,
      "outputs": []
    },
    {
      "cell_type": "code",
      "metadata": {
        "id": "foH_FzAn7xqY"
      },
      "source": [
        "numbers.median()"
      ],
      "execution_count": null,
      "outputs": []
    },
    {
      "cell_type": "markdown",
      "metadata": {
        "id": "y1r1lCva7xqZ"
      },
      "source": [
        "We can also get an overview of the statistical properties of a series:"
      ]
    },
    {
      "cell_type": "code",
      "metadata": {
        "id": "LUO4DO8t7xqa"
      },
      "source": [
        "numbers.describe()"
      ],
      "execution_count": null,
      "outputs": []
    },
    {
      "cell_type": "markdown",
      "metadata": {
        "id": "nOwkFGcq7xqb"
      },
      "source": [
        "Note that None/NaN values are ignored here. We can drop all NaN values if we desire:"
      ]
    },
    {
      "cell_type": "code",
      "metadata": {
        "id": "yP9_dh1-7xqb"
      },
      "source": [
        "numbers = numbers.dropna()\n",
        "numbers"
      ],
      "execution_count": null,
      "outputs": []
    },
    {
      "cell_type": "code",
      "source": [
        "bands_founded"
      ],
      "metadata": {
        "id": "f1Mx26dYC_wv"
      },
      "execution_count": null,
      "outputs": []
    },
    {
      "cell_type": "markdown",
      "metadata": {
        "id": "DfRaahKN7xqc"
      },
      "source": [
        "This works also for non-numerical data. Of course, we get different measures:"
      ]
    },
    {
      "cell_type": "code",
      "metadata": {
        "id": "1sJqm6Yg7xqd"
      },
      "source": [
        "bands.describe()"
      ],
      "execution_count": null,
      "outputs": []
    },
    {
      "cell_type": "markdown",
      "metadata": {
        "id": "UIUtlRYU7xqd"
      },
      "source": [
        "Other useful methods are asking for a specific quantile, the minimum, the maximum, etc."
      ]
    },
    {
      "cell_type": "code",
      "metadata": {
        "id": "5WfnxtR17xqe"
      },
      "source": [
        "numbers.quantile(0.25)"
      ],
      "execution_count": null,
      "outputs": []
    },
    {
      "cell_type": "code",
      "metadata": {
        "id": "4Q69MRyh7xqf"
      },
      "source": [
        "numbers.max()"
      ],
      "execution_count": null,
      "outputs": []
    },
    {
      "cell_type": "code",
      "metadata": {
        "id": "v2QDEQei7xqg"
      },
      "source": [
        "numbers.min()"
      ],
      "execution_count": null,
      "outputs": []
    },
    {
      "cell_type": "markdown",
      "metadata": {
        "collapsed": true,
        "id": "63CjcEHi7xqh"
      },
      "source": [
        "## Sorting\n",
        "\n",
        "We can sort a series:"
      ]
    },
    {
      "cell_type": "code",
      "metadata": {
        "id": "64nPlV5A7xqh"
      },
      "source": [
        "numbers.sort_values()"
      ],
      "execution_count": null,
      "outputs": []
    },
    {
      "cell_type": "code",
      "metadata": {
        "id": "odKg1bck7xqi"
      },
      "source": [
        "sorted_numbers = numbers.sort_values(ascending=False)\n",
        "sorted_numbers"
      ],
      "execution_count": null,
      "outputs": []
    },
    {
      "cell_type": "markdown",
      "metadata": {
        "id": "eVT9N9Z67xqk"
      },
      "source": [
        "Note that the indices remain constant. We can **reset the indices**:"
      ]
    },
    {
      "cell_type": "code",
      "metadata": {
        "id": "dZ2atror7xqk"
      },
      "source": [
        "# If we don't specify drop to be true, the previous indices are preserved in a separte column\n",
        "sorted_numbers = sorted_numbers.reset_index(drop=True)\n",
        "sorted_numbers"
      ],
      "execution_count": null,
      "outputs": []
    },
    {
      "cell_type": "markdown",
      "metadata": {
        "id": "JZY8vbsZ7xql"
      },
      "source": [
        "We can also sort by the index:"
      ]
    },
    {
      "cell_type": "code",
      "metadata": {
        "id": "IBVD-oSA7xqm"
      },
      "source": [
        "# mix up the indices first\n",
        "new_sorted_numbers = numbers.sort_values()\n",
        "print(new_sorted_numbers)\n",
        "new_sorted_numbers.sort_index()"
      ],
      "execution_count": null,
      "outputs": []
    },
    {
      "cell_type": "markdown",
      "metadata": {
        "id": "p4b2IrhV7xqn"
      },
      "source": [
        "## Applying a Function\n",
        "\n",
        "Often, we will want to apply a function to all values of a Series. We can do that with the map function."
      ]
    },
    {
      "cell_type": "markdown",
      "metadata": {
        "id": "ZCIs48R87xqp"
      },
      "source": [
        "This is an incredibly powerful concept that you can use to modify series in sophisticated ways.\n",
        "\n",
        "Another way to use the map function is to pass in a dictionary that is then applied to matching objects:"
      ]
    },
    {
      "cell_type": "code",
      "metadata": {
        "id": "dlL2SPMQ7xqq"
      },
      "source": [
        "new_sorted_numbers.map({1965:1945, 2012:1999, 1968:\"What\"})"
      ],
      "execution_count": null,
      "outputs": []
    },
    {
      "cell_type": "markdown",
      "metadata": {
        "id": "e6nHBtYs7xqr"
      },
      "source": [
        "## Conclusion\n",
        "\n",
        "Series (and data frames) are incredibly powerful. We've only covered a small part of the features here. Make sure to also check out resources such as the [10 minutes to pandas guide](http://pandas.pydata.org/pandas-docs/stable/10min.html)."
      ]
    },
    {
      "cell_type": "markdown",
      "metadata": {
        "id": "NGxarflu7xqr"
      },
      "source": [
        "### Exercise: Pandas Series\n",
        "\n",
        "Create a new pandas series with the lists given below that contain NFL team names and the number of Super Bowl titles they won. Use the names as indices, the wins as the data.\n",
        "\n",
        " * Once the list is created, sort the series alphabetically by index.\n",
        " * Print an overview of the statistical properties of the series. What's the mean number of wins?\n",
        " * Filter out all teams that have won less than four Super Bowl titles\n",
        " * A football team has 45 players. Update the series so that instead of the number of titles, it reflects the number of Super Bowl rings given to the players.\n",
        " * Assume that each ring costs USD 30,000. Update the series so that it contains a string of the dollar amount including the \\$ sign. For the Steelers, for example, this would correspond to:\n",
        " ```\n",
        " Pittsburgh Steelers             $ 8100000\n",
        " ```\n"
      ]
    },
    {
      "cell_type": "code",
      "metadata": {
        "id": "kvfvlPb47xqr"
      },
      "source": [
        "teams = [\"Pittsburgh Steelers\",\n",
        "\"Dallas Cowboys\",\n",
        "\"San Francisco 49ers\",\n",
        "\"New England Patriots\",\n",
        "\"Green Bay Packers\",\n",
        "\"New York Giants\",\n",
        "\"Denver Broncos\",\n",
        "\"Oakland/Los Angeles Raiders\",\n",
        "\"Washington Redskins\",\n",
        "\"Miami Dolphins\",\n",
        "\"Baltimore/Indianapolis Colts\",\n",
        "\"Baltimore Ravens\"]\n",
        "wins = [6,5,5,4,4,4,3,3,3,2,2,2]"
      ],
      "execution_count": null,
      "outputs": []
    },
    {
      "cell_type": "markdown",
      "source": [
        "**Take a poll here**: [poll1](https://PollEv.com​/marinakogan791)"
      ],
      "metadata": {
        "id": "wepuhXscoyU5"
      }
    }
  ]
}